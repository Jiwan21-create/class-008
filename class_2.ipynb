{
  "nbformat": 4,
  "nbformat_minor": 0,
  "metadata": {
    "colab": {
      "provenance": [],
      "authorship_tag": "ABX9TyP7ufjZwOo1G/d5y8u6tIA+",
      "include_colab_link": true
    },
    "kernelspec": {
      "name": "python3",
      "display_name": "Python 3"
    },
    "language_info": {
      "name": "python"
    }
  },
  "cells": [
    {
      "cell_type": "markdown",
      "metadata": {
        "id": "view-in-github",
        "colab_type": "text"
      },
      "source": [
        "<a href=\"https://colab.research.google.com/github/Jiwan21-create/class-008/blob/main/class_2.ipynb\" target=\"_parent\"><img src=\"https://colab.research.google.com/assets/colab-badge.svg\" alt=\"Open In Colab\"/></a>"
      ]
    },
    {
      "cell_type": "code",
      "execution_count": 5,
      "metadata": {
        "colab": {
          "base_uri": "https://localhost:8080/"
        },
        "id": "6aAuJGQnIdn7",
        "outputId": "43a080db-39f9-4a25-9a0c-c654f54918ea"
      },
      "outputs": [
        {
          "output_type": "stream",
          "name": "stdout",
          "text": [
            " the most 15 crime state in india\n",
            " 1.mizoram crime rate = 1567.85\n",
            " 2.kerala crime rate = 1477.2\n",
            " 3.gujarat crime rate = 1044.2\n",
            " 4.tamil nadu crime rate = 989.5\n",
            " 5.haryana crime rate = 697.3\n",
            " 6.MP crime rate = 560.8\n",
            " 7.maharashtra crime rate =433.5\n",
            " 8.telangana crime rate = 420.5\n",
            " 9.andhra crime rate = 420.4\n",
            " 10.assam crime rate = 379\n",
            " 11.chhattisgarh crime rate = 373.7\n",
            " 12.rajasthan crime rate = 357.6\n",
            " 13.odisha crime rate = 339.4\n",
            " 14.uttarakhanad crime rate = 304.9\n",
            " 15.uttra pardesh crime rate =262.4\n"
          ]
        }
      ],
      "source": [
        "#india crime currently condition\n",
        "print(\" the most 15 crime state in india\")\n",
        "print(\" 1.mizoram crime rate = 1567.85\")\n",
        "print(\" 2.kerala crime rate = 1477.2\")\n",
        "print(\" 3.gujarat crime rate = 1044.2\")\n",
        "print(\" 4.tamil nadu crime rate = 989.5\")\n",
        "print(\" 5.haryana crime rate = 697.3\")\n",
        "print(\" 6.MP crime rate = 560.8\")\n",
        "print(\" 7.maharashtra crime rate =433.5\")\n",
        "print(\" 8.telangana crime rate = 420.5\")\n",
        "print(\" 9.andhra crime rate = 420.4\")\n",
        "print(\" 10.assam crime rate = 379\")\n",
        "print(\" 11.chhattisgarh crime rate = 373.7\")\n",
        "print(\" 12.rajasthan crime rate = 357.6\")\n",
        "print(\" 13.odisha crime rate = 339.4\")\n",
        "print(\" 14.uttarakhanad crime rate = 304.9\")\n",
        "print(\" 15.uttra pardesh crime rate =262.4\")"
      ]
    },
    {
      "cell_type": "code",
      "source": [
        "\"\"\"increasing police presence\n",
        "can help reduce\n",
        "crime\"\"\"\n",
        "print(\"10 lines to reduce  crime\")\n",
        "print(\" 1) invest in youth education and mentorship\")\n",
        "print(\" 2)create more local job opportunities\")\n",
        "print(\" 3)strengthen community police relationship\")\n",
        "print(\" 4)support mental health and addiction relationships\")\n",
        "print(\" 5)improve street lighting and public spaces\")\n",
        "print(\" 6)ecourage neighborhood watch initiatives\")\n",
        "print(\" 7)address drug and alcohol abuse effectively\")\n",
        "print(\" 8)use drug and alchol abuse effectively\")\n",
        "print(\" 9)reform criminal justice system fairy\")\n",
        "print(\" 10)promote mental health awareness and serives\")"
      ],
      "metadata": {
        "colab": {
          "base_uri": "https://localhost:8080/"
        },
        "id": "my8n2sCvO7iL",
        "outputId": "af8ffd52-3d3b-4a68-de90-f7abc632ae6b"
      },
      "execution_count": 14,
      "outputs": [
        {
          "output_type": "stream",
          "name": "stdout",
          "text": [
            "10 lines to reduce  crime\n",
            " 1) invest in youth education and mentorship\n",
            " 2)create more local job opportunities\n",
            " 3)strengthen community police relationship\n",
            " 4)support mental health and addiction relationships\n",
            " 5)improve street lighting and public spaces\n",
            " 6)ecourage neighborhood watch initiatives\n",
            " 7)address drug and alcohol abuse effectively\n",
            " 8)use drug and alchol abuse effectively\n",
            " 9)reform criminal justice system fairy\n",
            " 10)promote mental health awareness and serives\n"
          ]
        }
      ]
    },
    {
      "cell_type": "code",
      "source": [
        "# crime total of 5 country india\n",
        "print(\"according to 2024 report best 5 country crime rate are combine then it is equal to the australia country crime rates. \")\n",
        "a = 1567.67\n",
        "b = 1467.87\n",
        "c = 1345.98\n",
        "d = 897.4\n",
        "e = 789.1\n",
        "print(a+b+c+d+e)\n"
      ],
      "metadata": {
        "colab": {
          "base_uri": "https://localhost:8080/"
        },
        "id": "TSSc8ukORoGI",
        "outputId": "72227604-d241-4c30-b2b8-54bd6b216cba"
      },
      "execution_count": 12,
      "outputs": [
        {
          "output_type": "stream",
          "name": "stdout",
          "text": [
            "according to 2024 report best 5 country crime rate are combine then it is equal to the australia country crime rates. \n",
            "6068.02\n"
          ]
        }
      ]
    },
    {
      "cell_type": "code",
      "source": [
        "# here is relevant and  practical information to help protect girls from crime.\n",
        "print(\"protecting girls from crime involves understanding the types of threats they may face the envirionment where those threats are more common, protective actions treduce risk\")\n",
        "print(\"common crimes against girls\")\n",
        "print(\"  * sexual abuse and exploitation\")\n",
        "print(\"  * domestic violence and child abuse\")\n",
        "print(\"  * cybercrimes\")\n",
        "print(\"  * human trafficking\")\n",
        "print(\"  * street harassment and kidnapping\")"
      ],
      "metadata": {
        "colab": {
          "base_uri": "https://localhost:8080/"
        },
        "id": "e4wlH5oRVu7Z",
        "outputId": "0e6583d8-30ec-4920-fa07-c57288ba3f3f"
      },
      "execution_count": 23,
      "outputs": [
        {
          "output_type": "stream",
          "name": "stdout",
          "text": [
            "protecting girls from crime involves understanding the types of threats they may face the envirionment where those threats are more common, protective actions treduce risk\n",
            "common crimes against girls\n",
            "  * sexual abuse and exploitation\n",
            "  * domestic violence and child abuse\n",
            "  * cybercrimes\n",
            "  * human trafficking\n",
            "  * street harassment and kidnapping\n"
          ]
        }
      ]
    }
  ]
}