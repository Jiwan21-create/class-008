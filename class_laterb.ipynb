{
  "cells": [
    {
      "cell_type": "markdown",
      "metadata": {
        "id": "view-in-github",
        "colab_type": "text"
      },
      "source": [
        "<a href=\"https://colab.research.google.com/github/Jiwan21-create/class-008/blob/main/class_laterb.ipynb\" target=\"_parent\"><img src=\"https://colab.research.google.com/assets/colab-badge.svg\" alt=\"Open In Colab\"/></a>"
      ]
    },
    {
      "cell_type": "code",
      "execution_count": null,
      "metadata": {
        "colab": {
          "base_uri": "https://localhost:8080/"
        },
        "id": "OUGWBQFVqgH2",
        "outputId": "e0c22572-b85b-40bb-cf2e-f8d7215e2d2e"
      },
      "outputs": [
        {
          "name": "stdout",
          "output_type": "stream",
          "text": [
            "1\n",
            "1\n",
            "1\n",
            "1\n",
            "1\n",
            "1\n",
            "1\n",
            "1\n",
            "1\n"
          ]
        }
      ],
      "source": [
        "for i in range(1,10):\n",
        "  print(\"1\")"
      ]
    },
    {
      "cell_type": "code",
      "execution_count": null,
      "metadata": {
        "colab": {
          "base_uri": "https://localhost:8080/"
        },
        "id": "zlQR7lQvsWsd",
        "outputId": "945674e7-a163-4f2f-a3fe-778125d99a36"
      },
      "outputs": [
        {
          "name": "stdout",
          "output_type": "stream",
          "text": [
            "0\n",
            "5\n",
            "10\n",
            "15\n",
            "20\n",
            "25\n",
            "30\n",
            "35\n",
            "40\n",
            "45\n",
            "50\n",
            "55\n",
            "60\n",
            "65\n",
            "70\n",
            "75\n",
            "80\n",
            "85\n",
            "90\n",
            "95\n"
          ]
        }
      ],
      "source": [
        "for i in range(0,100,5):\n",
        "  print(i)\n",
        "\n"
      ]
    },
    {
      "cell_type": "code",
      "execution_count": null,
      "metadata": {
        "colab": {
          "base_uri": "https://localhost:8080/"
        },
        "id": "EAUiTUQv0GV7",
        "outputId": "0b8721fc-938b-420e-b9a7-114fca84899d"
      },
      "outputs": [
        {
          "name": "stdout",
          "output_type": "stream",
          "text": [
            "---traffic light-----\n",
            "enter the light name(red,green,yellow) : green\n",
            "enter the way(east,west,north,south) : south\n",
            "go go go go go !\n"
          ]
        }
      ],
      "source": [
        "print(\"---traffic light-----\")\n",
        "light=input(\"enter the light name(red,green,yellow) : \")\n",
        "way=input(\"enter the way(east,west,north,south) : \")\n",
        "if light==\"red\":\n",
        "  if way==\"east\":\n",
        "    print(\"stop!\")\n",
        "  else:\n",
        "    print(\"invalid\")\n",
        "elif light==\"yellow\":\n",
        "  if way==\"west\":\n",
        "    print(\"ready to go!\")\n",
        "  else:\n",
        "    print(\"invalid\")\n",
        "elif light==\"green\":\n",
        "  if way==\"south\":\n",
        "    print(\"go go go go go !\")\n",
        "  else:\n",
        "    print(\"invalid\")\n",
        "elif light==\"red\":\n",
        "  if way==\"north\":\n",
        "    print(\"stop!!!!!!!!!!stop\")\n",
        "  else:\n",
        "    print(\"invalid\")\n",
        "\n",
        "else:\n",
        "  print(\"invalid,light\")\n",
        "\n",
        "\n",
        "\n",
        "\n",
        "\n",
        "\n",
        "\n",
        "\n"
      ]
    },
    {
      "cell_type": "markdown",
      "metadata": {
        "id": "Y-BhtzqCgN02"
      },
      "source": [
        "traffic light"
      ]
    },
    {
      "cell_type": "code",
      "execution_count": null,
      "metadata": {
        "colab": {
          "base_uri": "https://localhost:8080/"
        },
        "id": "LQmq6vUtK411",
        "outputId": "2f429cab-2a59-49c8-9c7b-54342e13c516"
      },
      "outputs": [
        {
          "name": "stdout",
          "output_type": "stream",
          "text": [
            "----traffic light-----\n",
            "enter the light name (red,green,yellow) : red\n",
            "enter the way for GOING : east\n",
            "enter the way for COME : east\n",
            "enter the road of BYCYCLE : east\n",
            "enter the ZEBRA CROSS : east\n",
            "INCOMING SIDE OF NORTH AND EAST SIDE stop!stop!\n",
            "OPEN THE EAST OUTGOING\n",
            "OPEN THE NORTH OUTGOING\n",
            "CLOSE THE  SOUTH INCOMING\n",
            "WRONG MANNER TO GOING THE SOUTH OUTGOING SIDE\n",
            "OPEN THE WEST INCOMING because : GREEN LIGHT\n",
            "CLOSE THE WEST OUTGOING\n",
            "road on vechicles for east and north side\n",
            "stop!also\n",
            "free a zebra cross for public\n"
          ]
        }
      ],
      "source": [
        "print(\"----traffic light-----\")\n",
        "#CHD traffic light view\n",
        "light=input(\"enter the light name (red,green,yellow) : \")\n",
        "incoming_road=input(\"enter the way for GOING : \")\n",
        "outgoing_road=input(\"enter the way for COME : \")\n",
        "bycycle=input(\"enter the road of BYCYCLE : \")\n",
        "zebra_cross=input(\"enter the ZEBRA CROSS : \")\n",
        "#taken the input    #given directions\n",
        "if light==\"red\":\n",
        " if incoming_road==\"east\" or incoming_road==\"north\":\n",
        "  print(\"INCOMING SIDE OF NORTH AND EAST SIDE stop!stop!\")\n",
        "  print(\"OPEN THE EAST OUTGOING\")\n",
        "  print(\"OPEN THE NORTH OUTGOING\")\n",
        "  print(\"CLOSE THE  SOUTH INCOMING\")\n",
        "  print(\"WRONG MANNER TO GOING THE SOUTH OUTGOING SIDE\")\n",
        "  print(\"OPEN THE WEST INCOMING because : GREEN LIGHT\")\n",
        "  print(\"CLOSE THE WEST OUTGOING\")\n",
        "  if outgoing_road==\"east\" or outgoing_road==\"north\":\n",
        "    print(\"road on vechicles for east and north side\")\n",
        "    if bycycle==\"east\" or bycycle==\"north\":\n",
        "      print(\"stop!also\")\n",
        "      if zebra_cross==\"east\" or zebra_cross==\"north\":\n",
        "        print(\"free a zebra cross for public\")\n",
        "      else:\n",
        "        print(\"invalid\")\n",
        "    else:\n",
        "      print(\"invalid!\")\n",
        "  else:\n",
        "    (\"invalid\")\n",
        " else:\n",
        "  print(\"invalid\")\n",
        "elif light==\"yellow\":\n",
        "  if incoming_road==\"south\":\n",
        "    print(\"SOUTH SIDE ready to go!!!!\")\n",
        "    print(\"INCOMING SIDE OF NORTH AND EAST SIDE stop!stop!\")\n",
        "    print(\"OPEN THE EAST OUTGOING\")\n",
        "    print(\"OPEN THE NORTH OUTGOING\")\n",
        "    print(\"OPEN THE WEST INCOMING because : GREEN LIGHT\")\n",
        "    print(\"CLOSE THE WEST OUTGOING\")\n",
        "    if outgoing_road==\"south\":\n",
        "     print(\"also road on vechicles for sourh side\")\n",
        "     if bycycle==\"south\":\n",
        "      print(\"stop!!also\")\n",
        "      if zebra_cross==\"south\":\n",
        "        print(\"free a zebra cross also!!!!!!\")\n",
        "      else:\n",
        "        print(\"invalid!\")\n",
        "     else:\n",
        "      print(\"invalid\")\n",
        "    else:\n",
        "      print(\"invalid\")\n",
        "  else:\n",
        "    print(\"invalid\")\n",
        "\n",
        "elif light==\"green\":\n",
        " if incoming_road==\"west\":\n",
        "  print(\"open the west incoming go go !!\")\n",
        "  print(\"OPEN THE EAST OUTGOING\")\n",
        "  print(\"OPEN THE NORTH OUTGOING\")\n",
        "  print(\"close the west outgoing\")\n",
        "  print(\"INCOMING SIDE OF NORTH AND EAST SIDE stop!stop!\")\n",
        "  if outgoing_road==\"west\":\n",
        "    print(\"no vechicles!!!!!!!\")\n",
        "    if bycycle==\"west\":\n",
        "      print(\"go go also!\")\n",
        "      if zebra_cross==\"west\":\n",
        "        print(\"not free zebra cross\")\n",
        "      else:\n",
        "        print(\"invalid\")\n",
        "    else:\n",
        "      print(\"invalid!!!\")\n",
        "  else:\n",
        "    print(\"invalid\")\n",
        " else:\n",
        "  print(\"invalid\")\n",
        "else:\n",
        "  print(\"invalid\")\n",
        "\n",
        "\n",
        "\n",
        "\n",
        "\n",
        "\n",
        "\n",
        "\n",
        "\n"
      ]
    },
    {
      "cell_type": "code",
      "execution_count": null,
      "metadata": {
        "colab": {
          "base_uri": "https://localhost:8080/"
        },
        "id": "iFkKK2ClBgMW",
        "outputId": "f9d9ee62-0377-41d7-8cff-a2642eec132d"
      },
      "outputs": [
        {
          "name": "stdout",
          "output_type": "stream",
          "text": [
            "enter the road direction : south\n",
            "enter the light nmae(green/yellow/red) : green\n",
            "enter the outcoming : south\n",
            "enter the zebra cross : south\n",
            "enter the light name light samll (green/yellow/red) : red\n",
            "enter the direction of small light : south\n",
            "invalid\n"
          ]
        }
      ],
      "source": [
        "#traffic light\n",
        "road_incoming=input(\"enter the road direction : \")\n",
        "light_big=input(\"enter the light nmae(green/yellow/red) : \")\n",
        "outgoing=input(\"enter the outcoming : \")\n",
        "zebra_cross=input(\"enter the zebra cross : \")\n",
        "light_small=input(\"enter the light name light samll (green/yellow/red) : \")\n",
        "direction_of_small=input('enter the direction of small light : ')\n",
        "#input given\n",
        "if road_incoming==\"south\":\n",
        "  if light_big==\"red\":\n",
        "    print(\"stop!stop!stop!\")\n",
        "    print(\"\")\n",
        "    if outgoing==\"south\":\n",
        "        print(\"south outgoing side vechicles on road\")\n",
        "        print(\"\")\n",
        "\n",
        "        print(\"\")\n",
        "        if zebra_cross==\"south\" or zebra_cross==\"north\" or zebra_cross==\"east\" or zebra_cross==\"west\":\n",
        "          print(\"free for a public to road\")\n",
        "          if light_small==\"green\":\n",
        "            print(\"go!go!go!\")\n",
        "            if direction_of_small==\"south\" or direction_of_small==\"north\" or direction_of_small==\"west\" or direction_of_small==\"east\":\n",
        "              print(\"vechicles on choka light\")\n",
        "            else:\n",
        "              print(\"invalid\")\n",
        "          else:\n",
        "            print(\"invalid\")\n",
        "        else:\n",
        "            print(\"invalid\")\n",
        "    else:\n",
        "            print(\"invalid\")\n",
        "  else:\n",
        "        print(\"invalid\")\n",
        "\n",
        "\n",
        "\n",
        "\n",
        "\n",
        "\n",
        "\n"
      ]
    },
    {
      "cell_type": "markdown",
      "metadata": {
        "id": "Qk8Hqn8-WYFI"
      },
      "source": [
        "even number"
      ]
    },
    {
      "cell_type": "code",
      "execution_count": null,
      "metadata": {
        "colab": {
          "base_uri": "https://localhost:8080/"
        },
        "id": "fleisiOQEi81",
        "outputId": "b252f264-d560-46a4-b353-2a56661ccdad"
      },
      "outputs": [
        {
          "name": "stdout",
          "output_type": "stream",
          "text": [
            "0\n",
            "2\n",
            "4\n",
            "6\n",
            "8\n",
            "10\n",
            "12\n",
            "14\n",
            "16\n",
            "18\n",
            "20\n",
            "22\n",
            "24\n",
            "26\n",
            "28\n",
            "30\n",
            "32\n",
            "34\n",
            "36\n",
            "38\n",
            "40\n",
            "42\n",
            "44\n",
            "46\n",
            "48\n",
            "50\n",
            "52\n",
            "54\n",
            "56\n",
            "58\n",
            "60\n",
            "62\n",
            "64\n",
            "66\n",
            "68\n",
            "70\n",
            "72\n",
            "74\n",
            "76\n",
            "78\n",
            "80\n",
            "82\n",
            "84\n",
            "86\n",
            "88\n",
            "90\n",
            "92\n",
            "94\n",
            "96\n",
            "98\n"
          ]
        }
      ],
      "source": [
        "for i in range(0,100,2):\n",
        "  print(i)"
      ]
    },
    {
      "cell_type": "markdown",
      "metadata": {
        "id": "0ZdvE0aeWbTs"
      },
      "source": [
        "odd number"
      ]
    },
    {
      "cell_type": "code",
      "execution_count": null,
      "metadata": {
        "colab": {
          "base_uri": "https://localhost:8080/"
        },
        "id": "QWLuLMPnEtqH",
        "outputId": "1de8eaac-0f0e-4d30-d20d-a92ac748f1c1"
      },
      "outputs": [
        {
          "name": "stdout",
          "output_type": "stream",
          "text": [
            "1\n",
            "3\n",
            "5\n",
            "7\n",
            "9\n",
            "11\n",
            "13\n",
            "15\n",
            "17\n",
            "19\n",
            "21\n",
            "23\n",
            "25\n",
            "27\n",
            "29\n",
            "31\n",
            "33\n",
            "35\n",
            "37\n",
            "39\n",
            "41\n",
            "43\n",
            "45\n",
            "47\n",
            "49\n",
            "51\n",
            "53\n",
            "55\n",
            "57\n",
            "59\n",
            "61\n",
            "63\n",
            "65\n",
            "67\n",
            "69\n",
            "71\n",
            "73\n",
            "75\n",
            "77\n",
            "79\n",
            "81\n",
            "83\n",
            "85\n",
            "87\n",
            "89\n",
            "91\n",
            "93\n",
            "95\n",
            "97\n",
            "99\n"
          ]
        }
      ],
      "source": [
        "for i in range(1,100,2):\n",
        "  print(i)"
      ]
    },
    {
      "cell_type": "markdown",
      "metadata": {
        "id": "iLujMSUBWeDt"
      },
      "source": [
        "new"
      ]
    },
    {
      "cell_type": "code",
      "execution_count": null,
      "metadata": {
        "colab": {
          "base_uri": "https://localhost:8080/"
        },
        "id": "OekY9nMQFryB",
        "outputId": "0627ead7-9369-4f19-e9ee-93f604276394"
      },
      "outputs": [
        {
          "name": "stdout",
          "output_type": "stream",
          "text": [
            "1\n",
            "3\n",
            "6\n",
            "10\n",
            "15\n",
            "21\n",
            "28\n",
            "36\n",
            "45\n",
            "55\n",
            "66\n",
            "78\n",
            "91\n",
            "105\n"
          ]
        }
      ],
      "source": [
        "sum=0\n",
        "for i in range(1,15):\n",
        "  sum=sum+i\n",
        "  print(sum)\n",
        "\n"
      ]
    },
    {
      "cell_type": "markdown",
      "metadata": {
        "id": "GWiRpt78Y84_"
      },
      "source": [
        "! exclatory use in opposite way"
      ]
    },
    {
      "cell_type": "code",
      "execution_count": null,
      "metadata": {
        "colab": {
          "base_uri": "https://localhost:8080/"
        },
        "id": "CnRqdZZtVMjA",
        "outputId": "d60e9296-e4a3-4151-acd8-4fcffbdf24ca"
      },
      "outputs": [
        {
          "name": "stdout",
          "output_type": "stream",
          "text": [
            "2\n",
            "4\n",
            "6\n",
            "8\n",
            "10\n",
            "12\n",
            "14\n",
            "16\n",
            "18\n",
            "20\n",
            "22\n",
            "24\n",
            "26\n",
            "28\n",
            "30\n",
            "32\n",
            "34\n",
            "36\n",
            "38\n",
            "40\n",
            "42\n",
            "44\n",
            "46\n",
            "48\n",
            "50\n",
            "52\n",
            "54\n",
            "56\n",
            "58\n",
            "60\n",
            "62\n",
            "64\n",
            "66\n",
            "68\n",
            "70\n",
            "72\n",
            "74\n",
            "76\n",
            "78\n",
            "80\n",
            "82\n",
            "84\n",
            "86\n",
            "88\n",
            "90\n",
            "92\n",
            "94\n",
            "96\n",
            "98\n"
          ]
        }
      ],
      "source": [
        "#even and odd number (!!!!!!!!!!!!!!)\n",
        "for i in range(1,100):\n",
        "   if (i%2==0):\n",
        "    print(i)\n",
        "\n",
        "\n",
        "\n",
        "\n",
        "\n",
        "\n",
        "\n",
        "\n",
        "\n",
        "\n",
        "\n",
        "\n",
        "\n",
        "\n",
        "\n",
        "\n",
        "\n",
        "\n",
        "\n",
        "\n",
        "\n",
        "\n",
        "\n",
        "\n",
        "\n",
        "\n",
        "\n",
        "\n",
        "\n"
      ]
    },
    {
      "cell_type": "code",
      "execution_count": null,
      "metadata": {
        "colab": {
          "base_uri": "https://localhost:8080/"
        },
        "id": "9WyBL12Sa-V5",
        "outputId": "feb8660e-d463-4bf6-e036-b5f8d5e04fa1"
      },
      "outputs": [
        {
          "name": "stdout",
          "output_type": "stream",
          "text": [
            "100\n",
            "99\n",
            "98\n",
            "97\n",
            "96\n",
            "95\n",
            "94\n",
            "93\n",
            "92\n",
            "91\n",
            "90\n",
            "89\n",
            "88\n",
            "87\n",
            "86\n",
            "85\n",
            "84\n",
            "83\n",
            "82\n",
            "81\n",
            "80\n",
            "79\n",
            "78\n",
            "77\n",
            "76\n",
            "75\n",
            "74\n",
            "73\n",
            "72\n",
            "71\n",
            "70\n",
            "69\n",
            "68\n",
            "67\n",
            "66\n",
            "65\n",
            "64\n",
            "63\n",
            "62\n",
            "61\n",
            "60\n",
            "59\n",
            "58\n",
            "57\n",
            "56\n",
            "55\n",
            "54\n",
            "53\n",
            "52\n",
            "51\n",
            "50\n",
            "49\n",
            "48\n",
            "47\n",
            "46\n",
            "45\n",
            "44\n",
            "43\n",
            "42\n",
            "41\n",
            "40\n",
            "39\n",
            "38\n",
            "37\n",
            "36\n",
            "35\n",
            "34\n",
            "33\n",
            "32\n",
            "31\n",
            "30\n",
            "29\n",
            "28\n",
            "27\n",
            "26\n",
            "25\n",
            "24\n",
            "23\n",
            "22\n",
            "21\n",
            "20\n",
            "19\n",
            "18\n",
            "17\n",
            "16\n",
            "15\n",
            "14\n",
            "13\n",
            "12\n",
            "11\n",
            "10\n",
            "9\n",
            "8\n",
            "7\n",
            "6\n",
            "5\n",
            "4\n",
            "3\n",
            "2\n",
            "1\n"
          ]
        }
      ],
      "source": [
        "#given a range decrase level\n",
        "for i in range(100,0,-1):\n",
        " print(i)"
      ]
    },
    {
      "cell_type": "code",
      "execution_count": null,
      "metadata": {
        "colab": {
          "base_uri": "https://localhost:8080/"
        },
        "id": "P2sloT8DzJmG",
        "outputId": "7f96ce9e-301f-4da7-e7db-ee572adca474"
      },
      "outputs": [
        {
          "name": "stdout",
          "output_type": "stream",
          "text": [
            "5\n",
            "4\n",
            "3\n",
            "2\n",
            "1\n"
          ]
        }
      ],
      "source": [
        "n=5\n",
        "while n>0:\n",
        "  print(n)\n",
        "  n=n-1"
      ]
    },
    {
      "cell_type": "code",
      "execution_count": null,
      "metadata": {
        "colab": {
          "base_uri": "https://localhost:8080/"
        },
        "id": "-jAa7aC0RoY4",
        "outputId": "9a71609a-94fe-4eb3-df72-56fcc3a97ff1"
      },
      "outputs": [
        {
          "name": "stdout",
          "output_type": "stream",
          "text": [
            "2450\n"
          ]
        }
      ],
      "source": [
        "#even number find summm\n",
        "sum=0\n",
        "for i in range(1,100):\n",
        "  if(i%2==0):\n",
        "    sum=sum+i\n",
        "print(sum)\n"
      ]
    },
    {
      "cell_type": "code",
      "execution_count": null,
      "metadata": {
        "colab": {
          "base_uri": "https://localhost:8080/"
        },
        "id": "ydZx6h55ToTl",
        "outputId": "9fb95f79-9af6-4afc-adf2-21d5b564afaf"
      },
      "outputs": [
        {
          "name": "stdout",
          "output_type": "stream",
          "text": [
            "2500\n"
          ]
        }
      ],
      "source": [
        "#odd number summ find\n",
        "sum=0\n",
        "for i in range(1,100):\n",
        "  if(i%2!=0):\n",
        "    sum=sum+i\n",
        "print(sum)\n"
      ]
    },
    {
      "cell_type": "code",
      "execution_count": null,
      "metadata": {
        "colab": {
          "base_uri": "https://localhost:8080/"
        },
        "id": "63Sr05EaT047",
        "outputId": "daceb7ea-16f5-43b6-efab-5bfb6a73b71e"
      },
      "outputs": [
        {
          "name": "stdout",
          "output_type": "stream",
          "text": [
            "59500\n"
          ]
        }
      ],
      "source": [
        "#divisble\n",
        "sum=0\n",
        "for i in range(1,1000):\n",
        "  if(i%10==0 or i%25==0):\n",
        "    sum=sum+i\n",
        "print(sum)\n",
        "\n"
      ]
    },
    {
      "cell_type": "code",
      "execution_count": null,
      "metadata": {
        "colab": {
          "base_uri": "https://localhost:8080/"
        },
        "id": "l1A9I_5EUYSG",
        "outputId": "105c10e7-9931-488b-8198-bb126460dc4f"
      },
      "outputs": [
        {
          "name": "stdout",
          "output_type": "stream",
          "text": [
            "3150\n"
          ]
        }
      ],
      "source": [
        "# 25 and 30 fraction\n",
        "sum=0\n",
        "for i in range(1,1000):\n",
        "  if(i%25==0 and i%30==0):\n",
        "    sum=sum+i\n",
        "print(sum)\n"
      ]
    },
    {
      "cell_type": "code",
      "execution_count": null,
      "metadata": {
        "colab": {
          "base_uri": "https://localhost:8080/"
        },
        "id": "YRspyl-f0Aje",
        "outputId": "8321212a-edca-4f8f-d7b9-f34221c07b0b"
      },
      "outputs": [
        {
          "name": "stdout",
          "output_type": "stream",
          "text": [
            "0\n",
            "1\n",
            "2\n",
            "3\n",
            "4\n",
            "5\n",
            "6\n",
            "7\n",
            "8\n",
            "9\n",
            "10\n",
            "11\n",
            "12\n",
            "13\n",
            "14\n",
            "15\n",
            "16\n",
            "17\n",
            "18\n",
            "19\n",
            "20\n",
            "21\n",
            "22\n",
            "23\n",
            "24\n",
            "25\n",
            "26\n",
            "27\n",
            "28\n",
            "29\n"
          ]
        }
      ],
      "source": [
        "#while (for specific needs)\n",
        "n=0\n",
        "while n<30:\n",
        "  print(n)\n",
        "  n=n+1"
      ]
    },
    {
      "cell_type": "code",
      "execution_count": null,
      "metadata": {
        "colab": {
          "base_uri": "https://localhost:8080/"
        },
        "id": "z33eJASc1I0E",
        "outputId": "562582b9-6bda-47e9-dc37-f2e1b633a0d0"
      },
      "outputs": [
        {
          "name": "stdout",
          "output_type": "stream",
          "text": [
            "0\n",
            "1\n",
            "3\n",
            "6\n",
            "10\n",
            "15\n"
          ]
        }
      ],
      "source": [
        "# five number add\n",
        "sum=0\n",
        "n=0\n",
        "while (n<=5):\n",
        "  sum=sum+n\n",
        "  n=n+1\n",
        "  print(sum)\n"
      ]
    },
    {
      "cell_type": "code",
      "execution_count": null,
      "metadata": {
        "colab": {
          "base_uri": "https://localhost:8080/"
        },
        "id": "rN2GkoOg27lm",
        "outputId": "33e95822-b75f-4c2c-8af7-1ad7173677a6"
      },
      "outputs": [
        {
          "name": "stdout",
          "output_type": "stream",
          "text": [
            "0\n",
            "1\n",
            "1\n",
            "2\n",
            "3\n",
            "5\n",
            "8\n",
            "13\n",
            "21\n",
            "34\n",
            "55\n"
          ]
        }
      ],
      "source": [
        "#fibcorces\n",
        "first=0\n",
        "second=1\n",
        "print(first)\n",
        "print(second)\n",
        "for i in range(2,11):\n",
        "  third = first+second\n",
        "  first = second\n",
        "  second = third\n",
        "  print(second)\n",
        "\n",
        "\n"
      ]
    },
    {
      "cell_type": "code",
      "execution_count": null,
      "metadata": {
        "colab": {
          "base_uri": "https://localhost:8080/"
        },
        "id": "VyBMIuMBAqXZ",
        "outputId": "22c52ffd-a402-4053-8b0d-9c80056e388a"
      },
      "outputs": [
        {
          "name": "stdout",
          "output_type": "stream",
          "text": [
            "30\n"
          ]
        }
      ],
      "source": [
        "# num\n",
        "sum = 0\n",
        "num=54678\n",
        "while num>0:\n",
        "  digit=num%10\n",
        "  sum = sum+digit\n",
        "  num = int(num //10)\n",
        "print(sum)\n",
        "\n",
        "\n"
      ]
    },
    {
      "cell_type": "code",
      "execution_count": null,
      "metadata": {
        "colab": {
          "base_uri": "https://localhost:8080/"
        },
        "id": "Kb8zeTmWEOBF",
        "outputId": "d11dc164-8716-46e2-daff-2ccc7062ffe7"
      },
      "outputs": [
        {
          "name": "stdout",
          "output_type": "stream",
          "text": [
            "2\n"
          ]
        }
      ],
      "source": [
        "# round 10\n",
        "a=5\n",
        "b=2\n",
        "c=a//b\n",
        "c=round(a/b)\n",
        "print(c)\n"
      ]
    },
    {
      "cell_type": "code",
      "execution_count": null,
      "metadata": {
        "colab": {
          "base_uri": "https://localhost:8080/"
        },
        "id": "9auzMHswCMbt",
        "outputId": "8c42dda6-730e-4249-ea5d-500e95ba0f27"
      },
      "outputs": [
        {
          "name": "stdout",
          "output_type": "stream",
          "text": [
            "0\n",
            "1\n",
            "1\n",
            "2\n",
            "3\n",
            "5\n",
            "8\n",
            "13\n",
            "21\n",
            "34\n",
            "55\n"
          ]
        }
      ],
      "source": [
        "#fib series set by a limit\n",
        "a,b=0,1\n",
        "limit=11\n",
        "for _ in range(limit):\n",
        "  print(a)\n",
        "  fib=a+b\n",
        "  a=b\n",
        "  b=fib"
      ]
    },
    {
      "cell_type": "code",
      "execution_count": null,
      "metadata": {
        "colab": {
          "base_uri": "https://localhost:8080/"
        },
        "id": "4qTt-ri4tnbj",
        "outputId": "64460301-8a86-4858-e8a4-b0af3321051b"
      },
      "outputs": [
        {
          "name": "stdout",
          "output_type": "stream",
          "text": [
            "210\n"
          ]
        }
      ],
      "source": [
        "num=56678\n",
        "sum=0\n",
        "while(num>0):\n",
        "  dig=num%10\n",
        "  sum=sum+(dig*dig)\n",
        "  num=num//10\n",
        "print(sum)"
      ]
    },
    {
      "cell_type": "code",
      "execution_count": null,
      "metadata": {
        "colab": {
          "base_uri": "https://localhost:8080/"
        },
        "id": "NNIapH79udrr",
        "outputId": "cf5638f5-8bde-4589-9720-9d60f0cfbc0d"
      },
      "outputs": [
        {
          "name": "stdout",
          "output_type": "stream",
          "text": [
            "98765\n"
          ]
        }
      ],
      "source": [
        "num=56789\n",
        "sum=0\n",
        "while(num>0):\n",
        "  dig=num%10\n",
        "  sum=sum*10+dig\n",
        "  num=num//10\n",
        "print(sum)"
      ]
    },
    {
      "cell_type": "code",
      "execution_count": null,
      "metadata": {
        "colab": {
          "base_uri": "https://localhost:8080/"
        },
        "id": "XMjk79sxvPwX",
        "outputId": "05e8330d-6f1d-42c6-901d-ac7212bd8eca"
      },
      "outputs": [
        {
          "name": "stdout",
          "output_type": "stream",
          "text": [
            "enter the number : 56789\n",
            "35\n"
          ]
        }
      ],
      "source": [
        "sum=0\n",
        "num=int(input(\"enter the number : \"))\n",
        "while(num>0):\n",
        "  dig=num%10\n",
        "  sum=sum+dig\n",
        "  num=num//10\n",
        "print(sum)"
      ]
    },
    {
      "cell_type": "code",
      "execution_count": null,
      "metadata": {
        "colab": {
          "base_uri": "https://localhost:8080/"
        },
        "id": "s5kppCwUwNvw",
        "outputId": "83121b26-347c-46d7-ed9c-3dfb4f58b894"
      },
      "outputs": [
        {
          "name": "stdout",
          "output_type": "stream",
          "text": [
            "enter the number : 789\n",
            "24\n"
          ]
        }
      ],
      "source": [
        "sum=0\n",
        "num=int(input(\"enter the number : \"))\n",
        "while(num>0):\n",
        "  dis=num%10\n",
        "  sum=sum+dis\n",
        "  num=num//10\n",
        "print(sum)"
      ]
    },
    {
      "cell_type": "code",
      "execution_count": null,
      "metadata": {
        "colab": {
          "base_uri": "https://localhost:8080/"
        },
        "id": "yb-_lEYWw5ls",
        "outputId": "d1dad92c-0487-4265-a924-d80b15af6c49"
      },
      "outputs": [
        {
          "name": "stdout",
          "output_type": "stream",
          "text": [
            "0\n",
            "1\n",
            "1\n",
            "2\n",
            "3\n",
            "5\n",
            "8\n",
            "13\n",
            "21\n",
            "34\n",
            "55\n"
          ]
        }
      ],
      "source": [
        "first=0\n",
        "second=1\n",
        "n=0\n",
        "while(n<=10):\n",
        "  print(first)\n",
        "  first,second=second,first+second\n",
        "  n=n+1\n"
      ]
    },
    {
      "cell_type": "code",
      "execution_count": null,
      "metadata": {
        "colab": {
          "base_uri": "https://localhost:8080/"
        },
        "id": "_qRiJ_0CVlKA",
        "outputId": "379a49dc-f983-4a39-c3d7-c9a8bd976d73"
      },
      "outputs": [
        {
          "name": "stdout",
          "output_type": "stream",
          "text": [
            "2\n",
            "5\n",
            "10\n",
            "17\n"
          ]
        }
      ],
      "source": [
        "# factorial num\n",
        "factorial_num=5\n",
        "factorial=1\n",
        "for i in range(1,factorial_num):\n",
        "  factorial = i * i+1\n",
        "  print(factorial)"
      ]
    },
    {
      "cell_type": "code",
      "execution_count": null,
      "metadata": {
        "colab": {
          "base_uri": "https://localhost:8080/"
        },
        "id": "u9HJmLAVWqoE",
        "outputId": "535e9f44-3de0-45f1-f743-f885bea8375a"
      },
      "outputs": [
        {
          "name": "stdout",
          "output_type": "stream",
          "text": [
            "25\n",
            "30\n",
            "36\n",
            "50\n",
            "60\n",
            "72\n",
            "75\n",
            "90\n",
            "100\n"
          ]
        }
      ],
      "source": [
        "for i in range(1,100+1):\n",
        "  if(i%25==0 or i%30==0 or i%36==0):\n",
        "    print(i)"
      ]
    },
    {
      "cell_type": "code",
      "execution_count": null,
      "metadata": {
        "colab": {
          "base_uri": "https://localhost:8080/"
        },
        "id": "qlifSwjAXXq5",
        "outputId": "9ecd810c-40f4-489f-f2f9-bbc803fd0c7b"
      },
      "outputs": [
        {
          "name": "stdout",
          "output_type": "stream",
          "text": [
            "225\n",
            "450\n",
            "675\n",
            "900\n"
          ]
        }
      ],
      "source": [
        "for i in range(1,1000+1):\n",
        "  if(i%25==0 and i%3==0 and i%9==0):\n",
        "    print(i)"
      ]
    },
    {
      "cell_type": "code",
      "execution_count": null,
      "metadata": {
        "colab": {
          "base_uri": "https://localhost:8080/"
        },
        "id": "55mEJajKYGTW",
        "outputId": "36f1134a-2d62-4c04-822a-66f4064ce080"
      },
      "outputs": [
        {
          "name": "stdout",
          "output_type": "stream",
          "text": [
            "75\n",
            "150\n",
            "300\n",
            "375\n",
            "525\n",
            "600\n",
            "750\n",
            "825\n",
            "975\n"
          ]
        }
      ],
      "source": [
        "for i in range(1,1000+1):\n",
        "  if(i%25==0 and i%3==0 and i%9!=0):\n",
        "    print(i)"
      ]
    },
    {
      "cell_type": "code",
      "execution_count": null,
      "metadata": {
        "colab": {
          "base_uri": "https://localhost:8080/"
        },
        "id": "RfxJyqXmYLOF",
        "outputId": "db62af34-c526-495d-c082-e6f1691e0fcf"
      },
      "outputs": [
        {
          "name": "stdout",
          "output_type": "stream",
          "text": [
            "0\n",
            "1\n",
            "1\n",
            "2\n",
            "3\n",
            "5\n",
            "8\n",
            "13\n",
            "21\n",
            "34\n"
          ]
        }
      ],
      "source": [
        "#fibonacci series\n",
        "num1 = 0\n",
        "num2 = 1\n",
        "fib_num = 10\n",
        "fib_series = 0\n",
        "if(fib_num == 0):\n",
        "  print(fib_num)\n",
        "elif(fib_num == 1):\n",
        "  print(fib_series)\n",
        "else:\n",
        "  print(num1)\n",
        "  print(num2)\n",
        "  for i in range(0,fib_num-2):\n",
        "    fib_series=num1+num2\n",
        "    num1=num2\n",
        "    num2=fib_series\n",
        "    print(fib_series)\n"
      ]
    },
    {
      "cell_type": "code",
      "execution_count": null,
      "metadata": {
        "colab": {
          "base_uri": "https://localhost:8080/"
        },
        "id": "H7FSoSP2bIZ7",
        "outputId": "27b695d4-ede7-4934-df5c-9964d75f5d39"
      },
      "outputs": [
        {
          "name": "stdout",
          "output_type": "stream",
          "text": [
            "5\n",
            "4\n",
            "3\n",
            "2\n",
            "1\n"
          ]
        }
      ],
      "source": [
        "n=5\n",
        "while(n>0):\n",
        "  print(n)\n",
        "  n=n-1"
      ]
    },
    {
      "cell_type": "code",
      "execution_count": null,
      "metadata": {
        "colab": {
          "base_uri": "https://localhost:8080/"
        },
        "id": "qprwwf40bv3f",
        "outputId": "1cbea102-5def-4381-91c2-c74c6ceda802"
      },
      "outputs": [
        {
          "name": "stdout",
          "output_type": "stream",
          "text": [
            "3\n",
            "2\n",
            "5\n",
            "6\n",
            "3256\n",
            "16\n"
          ]
        }
      ],
      "source": [
        "num=6523\n",
        "sum=0\n",
        "new_num=0\n",
        "while(num>0):\n",
        "  digit=num%10\n",
        "  sum=sum+digit\n",
        "  num=num//10\n",
        "  print(digit)\n"
      ]
    },
    {
      "cell_type": "code",
      "execution_count": null,
      "metadata": {
        "colab": {
          "base_uri": "https://localhost:8080/"
        },
        "id": "ZJc90CTPdxhx",
        "outputId": "6213100b-ef2b-49c6-b510-ea57e9656258"
      },
      "outputs": [
        {
          "name": "stdout",
          "output_type": "stream",
          "text": [
            " the number is :  6789\n",
            "9\n",
            "8\n",
            "7\n",
            "6\n",
            "the sum is :  30\n",
            "the reverse  number :  9876\n"
          ]
        }
      ],
      "source": [
        "num=6789\n",
        "sum=0\n",
        "reverse=0\n",
        "print(\" the number is : \",num)\n",
        "while(num > 0):\n",
        "  digit=num%10\n",
        "  sum=sum+digit\n",
        "  num=(num-digit)/10\n",
        "  print(int(digit))\n",
        "  reverse=reverse*10+int(digit)\n",
        "print(\"the sum is : \",round(sum))\n",
        "print(\"the reverse  number : \",reverse)"
      ]
    },
    {
      "cell_type": "code",
      "execution_count": null,
      "metadata": {
        "colab": {
          "base_uri": "https://localhost:8080/"
        },
        "id": "JVkcW-aufR0X",
        "outputId": "cf64aed4-b7cc-4ddc-d993-e129d65fb709"
      },
      "outputs": [
        {
          "name": "stdout",
          "output_type": "stream",
          "text": [
            "5050\n"
          ]
        }
      ],
      "source": [
        "n=100\n",
        "sum=0\n",
        "while(n>=0):\n",
        "  sum=sum+n\n",
        "  n=n-1\n",
        "print(sum)"
      ]
    },
    {
      "cell_type": "code",
      "execution_count": null,
      "metadata": {
        "colab": {
          "base_uri": "https://localhost:8080/"
        },
        "id": "MxV2HOgNfxX1",
        "outputId": "b80fa1f8-a371-4a59-bccc-1a2f2f74bfb4"
      },
      "outputs": [
        {
          "name": "stdout",
          "output_type": "stream",
          "text": [
            " enter the number : 7\n",
            "| 7 * 0 = 0\n",
            "| 7 * 1 = 7\n",
            "| 7 * 2 = 14\n",
            "| 7 * 3 = 21\n",
            "| 7 * 4 = 28\n",
            "| 7 * 5 = 35\n",
            "| 7 * 6 = 42\n",
            "| 7 * 7 = 49\n",
            "| 7 * 8 = 56\n",
            "| 7 * 9 = 63\n",
            "| 7 * 10 = 70\n",
            "----------------------\n",
            "----------------------\n",
            "| 7 * 0 = 0\n",
            "| 7 * 1 = 7\n",
            "| 7 * 2 = 14\n",
            "| 7 * 3 = 21\n",
            "| 7 * 4 = 28\n",
            "| 7 * 5 = 35\n",
            "| 7 * 6 = 42\n",
            "| 7 * 7 = 49\n",
            "| 7 * 8 = 56\n",
            "| 7 * 9 = 63\n",
            "| 7 * 10 = 70\n"
          ]
        }
      ],
      "source": [
        "#table\n",
        "num = int(input(\" enter the number : \"))\n",
        "for i in range(1-1,10+1):\n",
        "  print(\"|\",num,\"*\",i,\"=\",num*i)\n",
        "print(\"----------------------\")\n",
        "print(\"----------------------\")\n",
        "  #with while loop\n",
        "i=0\n",
        "while(i<=10):\n",
        "    print(\"|\",num,\"*\",i,\"=\",num*i)\n",
        "    i=i+1\n",
        "\n"
      ]
    },
    {
      "cell_type": "code",
      "execution_count": null,
      "metadata": {
        "colab": {
          "base_uri": "https://localhost:8080/"
        },
        "id": "b8Tb0DnfmAuV",
        "outputId": "2e3647b0-2842-41d9-d378-d870fbee0bb6"
      },
      "outputs": [
        {
          "name": "stdout",
          "output_type": "stream",
          "text": [
            "enter the number : 5\n",
            "225\n"
          ]
        }
      ],
      "source": [
        "#sum of a cubes number (kyunki 1³ + 2³ + 3³ + 4³ + 5³ = 225)\n",
        "n=int(input(\"enter the number : \"))\n",
        "sum=0\n",
        "for i in range(1,n+1):\n",
        "  sum=sum+i**3\n",
        "print(sum)"
      ]
    },
    {
      "cell_type": "markdown",
      "metadata": {
        "id": "YDUYb-HjdHYz"
      },
      "source": [
        "count = 0\n",
        "for i in range(2,7):   # i = 2,3,4,5,6\n",
        "    7 % 2 != 0\n",
        "    7 % 3 != 0\n",
        "    7 % 4 != 0\n",
        "    7 % 5 != 0\n",
        "    7 % 6 != 0\n",
        "=> Ek bhi baar condition true nahi hui, count abhi bhi 0 hai.\n",
        "if(count==0) → True\n",
        "Output: 7 is a prime number"
      ]
    },
    {
      "cell_type": "code",
      "execution_count": null,
      "metadata": {
        "colab": {
          "base_uri": "https://localhost:8080/"
        },
        "id": "aL1ecCuWmt7u",
        "outputId": "a6575bc8-219e-4844-80fa-e0498be3c590"
      },
      "outputs": [
        {
          "name": "stdout",
          "output_type": "stream",
          "text": [
            "enter the number : 4\n",
            "4 is not a prime number\n",
            "-------------------\n",
            "4 is NOT a prime number\n",
            "---------------\n",
            "4 is not a prime number\n"
          ]
        }
      ],
      "source": [
        "\n",
        "#prime number ( simple rule = count = 0 prime number) (count> 0 = nhi hm prime number)( age count abhi bhi zero hi hm number prime hm and agr count = 1 ya koi or number hua toh wo prime number nhiiiiiii hmmm)\n",
        "'''count = 0\n",
        "for i in range(2,9):   # i = 2,3,4,5,6,7,8\n",
        "    9 % 2 != 0\n",
        "    9 % 3 == 0   → count = 1\n",
        "    9 % 4 != 0\n",
        "    9 % 5 != 0\n",
        "    9 % 6 != 0\n",
        "    9 % 7 != 0\n",
        "    9 % 8 != 0\n",
        "Loop khatam → count = 1\n",
        "if(count==0)? → False\n",
        "Output: 9 is not a prime number'''\n",
        "#--------------------\n",
        "# condition shi  nhi hui ika vi baar hm -- prime no.\n",
        "# condition shi ho gi hm ----- prime no. hmmm\n",
        "\n",
        "n=int(input(\"enter the number : \"))\n",
        "count = 0\n",
        "for i in range(2,n):\n",
        "  if(n%i==0): #( agr ika bhi factor mila gya number prime hmmm)\n",
        "    count=count+1\n",
        "if(count==0): # it means not equal logical mindd (count ye hm wo kitni baar divide hua hm....)\n",
        "  print(n,\" is a prime number\")\n",
        "else:\n",
        "  print(n,\"is not a prime number\")\n",
        "\n",
        "print(\"-------------------\")\n",
        "# using break\n",
        "for i in range(2,n):\n",
        "  if(n % i == 0):   # agar ek bhi divisor mil gaya\n",
        "    print(n, \"is NOT a prime number\")  # ❌ prime nahi hai\n",
        "    break\n",
        "else:  # loop pura chal gaya, matlab divisor nahi mila\n",
        "    print(n, \"is a prime number\")\n",
        "\n",
        "print(\"---------------\")\n",
        "#using a ballon\n",
        "#is_prime = True\n",
        "#Loop i = 2 → 7 % 2 ≠ 0\n",
        "#Loop i = 3 → 7 % 3 ≠ 0\n",
        "#Loop i = 4 → 7 % 4 ≠ 0\n",
        "#Loop i = 5 → 7 % 5 ≠ 0\n",
        "# i = 6 → 7 % 6 ≠ 0\n",
        "#Loop khatam → is_prime abhi bhi True hai\n",
        "#Output: 7 is a prime number\n",
        "\n",
        "#-----------------------------\n",
        "\n",
        "#is_prime = True\n",
        "#Loop i = 2 → 9 % 2 ≠ 0\n",
        "#Loop i = 3 → 9 % 3 == 0 → is_prime = False, break\n",
        "#Loop khatam\n",
        "#is_prime False hai\n",
        "#Output: 9 is not a prime number\n",
        "is_prime = True           # pehle maan lete hain ki number prime hai (balloon fula diya)\n",
        "for i in range(2, n):     # 2 se n-1 tak sab check karo\n",
        "    if (n % i == 0):      # agar number kisi se divide ho gaya\n",
        "        is_prime = False  # matlab prime nahi hai → balloon phod do\n",
        "        break             # aur loop se turant bahar aa jao\n",
        "\n",
        "if is_prime == True:      # agar balloon abhi bhi safe hai\n",
        "    print(n, \"is a prime number\")\n",
        "else:                     # agar balloon phat gaya\n",
        "    print(n, \"is not a prime number\")\n",
        "\n",
        "\n",
        "\n",
        "\n",
        "\n"
      ]
    },
    {
      "cell_type": "code",
      "execution_count": null,
      "metadata": {
        "colab": {
          "base_uri": "https://localhost:8080/"
        },
        "id": "V5s47yFARhiw",
        "outputId": "854e12af-0c31-4a45-a6d1-979c6c410245"
      },
      "outputs": [
        {
          "name": "stdout",
          "output_type": "stream",
          "text": [
            "False\n"
          ]
        }
      ],
      "source": [
        "a=5<4\n",
        "print(a)"
      ]
    },
    {
      "cell_type": "code",
      "execution_count": null,
      "metadata": {
        "colab": {
          "base_uri": "https://localhost:8080/"
        },
        "id": "1FAenthW7Ryw",
        "outputId": "e4b374b8-0b72-4016-bcf0-c4f164ef91ea"
      },
      "outputs": [
        {
          "name": "stdout",
          "output_type": "stream",
          "text": [
            "5432\n"
          ]
        }
      ],
      "source": [
        "# reverse\n",
        "num=2345\n",
        "sum=0\n",
        "while num > 0:\n",
        "  digit=num%10\n",
        "  sum=sum*10+digit\n",
        "  num=num//10\n",
        "print(sum)\n"
      ]
    },
    {
      "cell_type": "code",
      "execution_count": null,
      "metadata": {
        "colab": {
          "base_uri": "https://localhost:8080/"
        },
        "id": "ctzCsit69rgG",
        "outputId": "936c2bac-42a8-4285-adbb-85972732e5d9"
      },
      "outputs": [
        {
          "name": "stdout",
          "output_type": "stream",
          "text": [
            "this is the reverse number :  5432\n"
          ]
        }
      ],
      "source": [
        "#reverse difficult method\n",
        "num=2345\n",
        "sum=0\n",
        "reverse=0\n",
        "while num > 0:\n",
        "  digit=num%10\n",
        "  sum=sum+digit\n",
        "  num=num//10\n",
        "  reverse=reverse*10+digit\n",
        "print(\"this is the reverse number : \",reverse)"
      ]
    },
    {
      "cell_type": "code",
      "execution_count": null,
      "metadata": {
        "colab": {
          "base_uri": "https://localhost:8080/"
        },
        "id": "EWqh2AiY_VFU",
        "outputId": "8655c029-ff94-459b-fb0a-7281faa00d7b"
      },
      "outputs": [
        {
          "name": "stdout",
          "output_type": "stream",
          "text": [
            "54321\n"
          ]
        }
      ],
      "source": [
        "\n",
        "num=12345\n",
        "reverse_num=0\n",
        "while num>0:\n",
        "  dig=num%10\n",
        "  if dig >=0:\n",
        "    reverse_num=reverse_num*10+dig\n",
        "  num=num//10\n",
        "print(reverse_num)\n",
        "\n",
        "\n",
        "\n",
        "\n",
        "\n",
        "\n",
        "\n"
      ]
    },
    {
      "cell_type": "code",
      "execution_count": null,
      "metadata": {
        "colab": {
          "base_uri": "https://localhost:8080/"
        },
        "id": "nIDykO_jL2zt",
        "outputId": "b3f7a03b-c813-4fbb-f1f4-4df6581fd93b"
      },
      "outputs": [
        {
          "name": "stdout",
          "output_type": "stream",
          "text": [
            "enter the number : 12345\n",
            "54321\n"
          ]
        }
      ],
      "source": [
        "#palindrome\n",
        "num=int(input(\"enter the number : \"))\n",
        "k=num\n",
        "sum=0\n",
        "while(num>0):\n",
        "  dig=num%10\n",
        "  sum=sum*10+dig\n",
        "  num=num//10\n",
        "if k==sum:\n",
        "  print(\"palindrome\")\n",
        "else:\n",
        "  print(sum)"
      ]
    },
    {
      "cell_type": "code",
      "execution_count": null,
      "metadata": {
        "colab": {
          "base_uri": "https://localhost:8080/"
        },
        "id": "N1crfzaGqhW0",
        "outputId": "332aeac9-e818-44aa-d33b-1e7bdcd0c6f3"
      },
      "outputs": [
        {
          "name": "stdout",
          "output_type": "stream",
          "text": [
            "enter the number : 45678\n",
            "45678 is NOT  a palindrome\n",
            "87654\n"
          ]
        }
      ],
      "source": [
        "# palindrome number\n",
        "a=int(input(\"enter the number : \"))\n",
        "t=a\n",
        "c=0\n",
        "while(a>0):\n",
        "  d=a%10\n",
        "  c=c*10+d\n",
        "  a=a//10 # floor value\n",
        "if(t==c):\n",
        "  print(t,\"is a palindrome\")\n",
        "else:\n",
        "  print(t,\"is NOT  a palindrome\")\n",
        "  # sum\n",
        "print(c)\n"
      ]
    },
    {
      "cell_type": "code",
      "execution_count": null,
      "metadata": {
        "colab": {
          "base_uri": "https://localhost:8080/"
        },
        "id": "QYLjow33NSqM",
        "outputId": "4c9bf248-822e-4ddf-edd3-fc69f4be819c"
      },
      "outputs": [
        {
          "name": "stdout",
          "output_type": "stream",
          "text": [
            "120\n",
            "153\n"
          ]
        }
      ],
      "source": [
        "#factorial series\n",
        "fact=1\n",
        "sum=0\n",
        "for i in range(1,6):\n",
        "  fact=fact*i\n",
        "  sum=sum+fact\n",
        "print(fact)\n",
        "# sum\n",
        "print(sum)\n",
        "\n",
        "\n",
        "\n"
      ]
    },
    {
      "cell_type": "code",
      "execution_count": null,
      "metadata": {
        "colab": {
          "base_uri": "https://localhost:8080/"
        },
        "id": "veCvp69jtDmE",
        "outputId": "b871684f-add4-4b53-db7c-facec1730f4d"
      },
      "outputs": [
        {
          "name": "stdout",
          "output_type": "stream",
          "text": [
            "enter the number : 5\n",
            "120\n",
            "153\n"
          ]
        }
      ],
      "source": [
        "# factorial series\n",
        "num=int(input(\"enter the number : \"))\n",
        "f=1\n",
        "s=0\n",
        "for i in range(1,num+1):\n",
        "  f=f*i\n",
        "  s=s+f\n",
        "print(f)\n",
        "print(s)"
      ]
    },
    {
      "cell_type": "code",
      "execution_count": null,
      "metadata": {
        "colab": {
          "base_uri": "https://localhost:8080/"
        },
        "id": "mV2--Ck1Unrf",
        "outputId": "3be725cc-4caa-42e0-9d58-7fc5bc9e59fa"
      },
      "outputs": [
        {
          "name": "stdout",
          "output_type": "stream",
          "text": [
            "20\n",
            "15\n"
          ]
        }
      ],
      "source": [
        "# replace (some mistake in which)\n",
        "a=5\n",
        "b=10\n",
        "a=a+b\n",
        "b=a-b\n",
        "a=a+b\n",
        "b=a-b\n",
        "print(a)\n",
        "print(b)"
      ]
    },
    {
      "cell_type": "code",
      "execution_count": null,
      "metadata": {
        "colab": {
          "base_uri": "https://localhost:8080/"
        },
        "id": "n7i3qsCcYgZ1",
        "outputId": "abad5f4d-a3c4-4a89-eca1-93aba1ed5de0"
      },
      "outputs": [
        {
          "name": "stdout",
          "output_type": "stream",
          "text": [
            "10\n",
            "5\n"
          ]
        }
      ],
      "source": [
        "#replace\n",
        "a=5\n",
        "b=10\n",
        "a=a+b\n",
        "b=a-b\n",
        "a=a-b\n",
        "print(a)\n",
        "print(b)"
      ]
    },
    {
      "cell_type": "code",
      "execution_count": null,
      "metadata": {
        "colab": {
          "base_uri": "https://localhost:8080/"
        },
        "id": "O68etge6HELD",
        "outputId": "97547749-6b3c-46b8-e43e-1c939181987d"
      },
      "outputs": [
        {
          "name": "stdout",
          "output_type": "stream",
          "text": [
            "enter the number : 9\n",
            "9 prime number\n"
          ]
        }
      ],
      "source": [
        "# balleon\n",
        "n=int(input(\"enter the number : \"))\n",
        "_prime=True\n",
        "for i in range(2,n):\n",
        "  if(n%2==0):\n",
        "    _prime=False\n",
        "    break\n",
        "if(_prime==True):\n",
        "  print(n,\"prime number\")\n",
        "else:\n",
        "  print(n,\" NOT prime number\")\n",
        "\n",
        "\n"
      ]
    },
    {
      "cell_type": "code",
      "execution_count": null,
      "metadata": {
        "colab": {
          "base_uri": "https://localhost:8080/"
        },
        "id": "ZFQwhsaSlKrk",
        "outputId": "6956be22-9c89-4938-f9c0-fd0905224004"
      },
      "outputs": [
        {
          "name": "stdout",
          "output_type": "stream",
          "text": [
            " enter the number : 2\n",
            "| 2 * 0 = 0\n",
            "| 2 * 1 = 2\n",
            "| 2 * 2 = 4\n",
            "| 2 * 3 = 6\n",
            "| 2 * 4 = 8\n",
            "| 2 * 5 = 10\n",
            "| 2 * 6 = 12\n",
            "| 2 * 7 = 14\n",
            "| 2 * 8 = 16\n",
            "| 2 * 9 = 18\n",
            "| 2 * 10 = 20\n",
            "the sum of the result numbers : 132\n"
          ]
        }
      ],
      "source": [
        "# sum of table numbers\n",
        "num = int(input(\" enter the number : \"))\n",
        "i=0\n",
        "sum=0\n",
        "while(i<=10):\n",
        "    print(\"|\",num,\"*\",i,\"=\",num*i)\n",
        "    i=i+1\n",
        "    sum=sum+num*i\n",
        "print(\"the sum of the result numbers :\",sum)\n",
        "\n"
      ]
    },
    {
      "cell_type": "code",
      "execution_count": null,
      "metadata": {
        "colab": {
          "base_uri": "https://localhost:8080/"
        },
        "id": "SKzyamMJnB2E",
        "outputId": "a6746b12-d5be-4cd2-ff2c-08af9ba2d823"
      },
      "outputs": [
        {
          "name": "stdout",
          "output_type": "stream",
          "text": [
            "100\n",
            "98\n",
            "96\n",
            "94\n",
            "92\n",
            "90\n",
            "88\n",
            "86\n",
            "84\n",
            "82\n",
            "80\n",
            "78\n",
            "76\n",
            "74\n",
            "72\n",
            "70\n",
            "68\n",
            "66\n",
            "64\n",
            "62\n",
            "60\n",
            "58\n",
            "56\n",
            "54\n",
            "52\n",
            "50\n",
            "48\n",
            "46\n",
            "44\n",
            "42\n",
            "40\n",
            "38\n",
            "36\n",
            "34\n",
            "32\n",
            "30\n",
            "28\n",
            "26\n",
            "24\n",
            "22\n",
            "20\n",
            "18\n",
            "16\n",
            "14\n",
            "12\n",
            "10\n",
            "8\n",
            "6\n",
            "4\n",
            "2\n"
          ]
        }
      ],
      "source": [
        "# decrese level of even number\n",
        "n=0\n",
        "for i in range(101,n,-1):\n",
        "  if(i%2==0):\n",
        "   print(i)\n"
      ]
    },
    {
      "cell_type": "code",
      "execution_count": null,
      "metadata": {
        "colab": {
          "base_uri": "https://localhost:8080/"
        },
        "id": "29W3te36K8-B",
        "outputId": "00d52698-7b93-4d58-cf0c-63bff8e8ee40"
      },
      "outputs": [
        {
          "name": "stdout",
          "output_type": "stream",
          "text": [
            "enter the vale :23\n",
            " the multipication  94143178827\n"
          ]
        }
      ],
      "source": [
        "num=int(input(\"enter the vale :\"))\n",
        "mul=1\n",
        "for i in range(0,num):\n",
        "  digit=num%10\n",
        "  mul *= int(digit)\n",
        "print(\" the multipication \",mul)\n",
        "\n",
        "\n",
        "\n"
      ]
    },
    {
      "cell_type": "code",
      "execution_count": null,
      "metadata": {
        "colab": {
          "base_uri": "https://localhost:8080/"
        },
        "id": "CKqTcIwCJJbK",
        "outputId": "9693c9ce-696d-45ca-d7a4-130bd3d96e5a"
      },
      "outputs": [
        {
          "name": "stdout",
          "output_type": "stream",
          "text": [
            "enter the value:5\n",
            "225\n"
          ]
        }
      ],
      "source": [
        "#sum of the cubes\n",
        "n=int(input(\"enter the value:\"))\n",
        "sum=0\n",
        "for i in range(0,n+1):\n",
        "  sum=sum+i**3\n",
        "print(sum)"
      ]
    },
    {
      "cell_type": "code",
      "execution_count": null,
      "metadata": {
        "colab": {
          "base_uri": "https://localhost:8080/"
        },
        "id": "1zGIwj5HRfE0",
        "outputId": "bbbbdc51-9c1d-4d6d-9e4c-480f76ff02cc"
      },
      "outputs": [
        {
          "name": "stdout",
          "output_type": "stream",
          "text": [
            "enter:2024\n",
            "leap year\n"
          ]
        }
      ],
      "source": [
        "year=int(input('enter:'))\n",
        "y=year\n",
        "while y >=400:\n",
        "  y=y-400\n",
        "if y==0:\n",
        "  print(\"leap year\")\n",
        "else:\n",
        "\n",
        "  y=year\n",
        "  while y>=100:\n",
        "    y=y-100\n",
        "  if y==0:\n",
        "    print(\"not a leap year\")\n",
        "  else:\n",
        "    y=year\n",
        "    while y>=4:\n",
        "\n",
        "      y=y-4\n",
        "    if y==0:\n",
        "      print(\"leap year\")\n",
        "    else:\n",
        "      print(\"not a leap year\")\n",
        "\n",
        "\n"
      ]
    },
    {
      "cell_type": "code",
      "execution_count": null,
      "metadata": {
        "colab": {
          "base_uri": "https://localhost:8080/"
        },
        "id": "lWMI1zqrTd8z",
        "outputId": "ec50aa6e-adca-42c6-b4da-74854869a891"
      },
      "outputs": [
        {
          "name": "stdout",
          "output_type": "stream",
          "text": [
            "1\n",
            "2\n",
            "3\n",
            "4\n",
            "6\n",
            "7\n",
            "8\n",
            "9\n",
            "11\n",
            "12\n",
            "13\n",
            "14\n",
            "16\n",
            "17\n",
            "18\n",
            "19\n",
            "21\n",
            "22\n",
            "23\n",
            "24\n",
            "26\n",
            "27\n",
            "28\n",
            "29\n",
            "31\n",
            "32\n",
            "33\n",
            "34\n",
            "36\n",
            "37\n",
            "38\n",
            "39\n",
            "41\n",
            "42\n",
            "43\n",
            "44\n",
            "46\n",
            "47\n",
            "48\n",
            "49\n",
            "51\n",
            "52\n",
            "53\n",
            "54\n",
            "56\n",
            "57\n",
            "58\n",
            "59\n",
            "61\n",
            "62\n",
            "63\n",
            "64\n",
            "66\n",
            "67\n",
            "68\n",
            "69\n",
            "71\n",
            "72\n",
            "73\n",
            "74\n",
            "76\n",
            "77\n",
            "78\n",
            "79\n",
            "81\n",
            "82\n",
            "83\n",
            "84\n",
            "86\n",
            "87\n",
            "88\n",
            "89\n",
            "91\n",
            "92\n",
            "93\n",
            "94\n",
            "96\n",
            "97\n",
            "98\n",
            "99\n"
          ]
        }
      ],
      "source": [
        "# divisible\n",
        "i=1\n",
        "for i in range(1,100):\n",
        "  if(i%5==0):\n",
        "   continue\n",
        "  print(i)\n"
      ]
    },
    {
      "cell_type": "code",
      "execution_count": null,
      "metadata": {
        "colab": {
          "base_uri": "https://localhost:8080/"
        },
        "id": "_eT41zLMbOFu",
        "outputId": "3ea27442-4bf2-4142-ea60-523891d07624"
      },
      "outputs": [
        {
          "name": "stdout",
          "output_type": "stream",
          "text": [
            "2000\n",
            "2004\n",
            "2008\n",
            "2012\n",
            "2016\n",
            "2020\n",
            "2024\n",
            "2028\n",
            "2032\n",
            "2036\n",
            "2040\n",
            "2044\n",
            "2048\n",
            "2052\n",
            "2056\n",
            "2060\n",
            "2064\n",
            "2068\n",
            "2072\n",
            "2076\n",
            "2080\n",
            "2084\n",
            "2088\n",
            "2092\n",
            "2096\n",
            "2104\n",
            "2108\n",
            "2112\n",
            "2116\n",
            "2120\n",
            "2124\n",
            "2128\n",
            "2132\n",
            "2136\n",
            "2140\n",
            "2144\n",
            "2148\n",
            "2152\n",
            "2156\n",
            "2160\n",
            "2164\n",
            "2168\n",
            "2172\n",
            "2176\n",
            "2180\n",
            "2184\n",
            "2188\n",
            "2192\n",
            "2196\n",
            "2204\n",
            "2208\n",
            "2212\n",
            "2216\n",
            "2220\n",
            "2224\n",
            "2228\n",
            "2232\n",
            "2236\n",
            "2240\n",
            "2244\n",
            "2248\n",
            "2252\n",
            "2256\n",
            "2260\n",
            "2264\n",
            "2268\n",
            "2272\n",
            "2276\n",
            "2280\n",
            "2284\n",
            "2288\n",
            "2292\n",
            "2296\n",
            "2304\n",
            "2308\n",
            "2312\n",
            "2316\n",
            "2320\n",
            "2324\n",
            "2328\n",
            "2332\n",
            "2336\n",
            "2340\n",
            "2344\n",
            "2348\n",
            "2352\n",
            "2356\n",
            "2360\n",
            "2364\n",
            "2368\n",
            "2372\n",
            "2376\n",
            "2380\n",
            "2384\n",
            "2388\n",
            "2392\n",
            "2396\n",
            "2400\n",
            "2404\n",
            "2408\n",
            "2412\n",
            "2416\n",
            "2420\n",
            "2424\n",
            "2428\n",
            "2432\n",
            "2436\n",
            "2440\n",
            "2444\n",
            "2448\n",
            "2452\n",
            "2456\n",
            "2460\n",
            "2464\n",
            "2468\n",
            "2472\n",
            "2476\n",
            "2480\n",
            "2484\n",
            "2488\n",
            "2492\n",
            "2496\n"
          ]
        }
      ],
      "source": [
        "#yearrr\n",
        "for year in range(2000,2500):\n",
        "  if year%4==0:\n",
        "    if year%100==0:\n",
        "      if year%400==0:\n",
        "        print(year)\n",
        "        continue\n",
        "    else:\n",
        "      print(year)\n"
      ]
    },
    {
      "cell_type": "code",
      "execution_count": null,
      "metadata": {
        "colab": {
          "base_uri": "https://localhost:8080/"
        },
        "id": "3a6dWAByalDR",
        "outputId": "8f499a03-576a-48c8-8a0c-b71c31d313ef"
      },
      "outputs": [
        {
          "name": "stdout",
          "output_type": "stream",
          "text": [
            "hello\n"
          ]
        }
      ],
      "source": [
        "#function\n",
        "def speak():\n",
        "  print(\"hello\")\n",
        "\n",
        "a=speak()"
      ]
    },
    {
      "cell_type": "code",
      "execution_count": null,
      "metadata": {
        "colab": {
          "base_uri": "https://localhost:8080/"
        },
        "id": "c-OjBfe7YFMZ",
        "outputId": "cd0791d0-22a7-4fb5-a7c6-16cadd07043d"
      },
      "outputs": [
        {
          "name": "stdout",
          "output_type": "stream",
          "text": [
            "30\n"
          ]
        }
      ],
      "source": [
        "#fuctions add\n",
        "def addtwo(a,b):\n",
        "  return a+b\n",
        "a=addtwo(10,20)\n",
        "print(a)\n",
        "\n"
      ]
    },
    {
      "cell_type": "code",
      "execution_count": null,
      "metadata": {
        "colab": {
          "base_uri": "https://localhost:8080/"
        },
        "id": "3wntgA6FYymj",
        "outputId": "05af4214-1993-420e-c458-adbcf0defe2b"
      },
      "outputs": [
        {
          "name": "stdout",
          "output_type": "stream",
          "text": [
            "30\n",
            "40\n"
          ]
        }
      ],
      "source": [
        "#fuctions\n",
        "def addtwo(a,b):\n",
        "  return a+b\n",
        "a=addtwo(10,20)\n",
        "b=addtwo(20,20)\n",
        "print(a)\n",
        "print(b)"
      ]
    },
    {
      "cell_type": "code",
      "execution_count": null,
      "metadata": {
        "colab": {
          "base_uri": "https://localhost:8080/"
        },
        "id": "UR5GQgkcZa_z",
        "outputId": "0d43c782-075b-4003-fcfb-d84e0b79ef8e"
      },
      "outputs": [
        {
          "name": "stdout",
          "output_type": "stream",
          "text": [
            "720\n"
          ]
        }
      ],
      "source": [
        "# fuctions\n",
        "def mul(a,b,c,d,e,f):\n",
        "  return a*b*c*d*e*f\n",
        "a=mul(1,2,3,4,5,6)\n",
        "print(a)\n"
      ]
    },
    {
      "cell_type": "code",
      "execution_count": null,
      "metadata": {
        "colab": {
          "base_uri": "https://localhost:8080/"
        },
        "id": "m2R6BaSPaTtE",
        "outputId": "93a72fa6-ff7d-4e49-ebdb-b548c9de38c2"
      },
      "outputs": [
        {
          "name": "stdout",
          "output_type": "stream",
          "text": [
            "3628800\n",
            "2432902008176640000\n"
          ]
        }
      ],
      "source": [
        "# factorial # return\n",
        "\n",
        "def mul(n):\n",
        "  fact=1\n",
        "  for i in range(1,n+1):\n",
        "    fact=fact*i\n",
        "  return fact\n",
        "a=mul(10)\n",
        "b=mul(20)\n",
        "print(a)\n",
        "print(b)\n",
        "\n",
        "\n",
        "\n",
        "\n",
        "\n",
        "\n",
        "\n"
      ]
    },
    {
      "cell_type": "code",
      "execution_count": null,
      "metadata": {
        "colab": {
          "base_uri": "https://localhost:8080/"
        },
        "id": "k6vA9qRWdj9t",
        "outputId": "e054c73c-edc4-4f25-a120-164335c47890"
      },
      "outputs": [
        {
          "name": "stdout",
          "output_type": "stream",
          "text": [
            "3628800\n",
            "120\n"
          ]
        }
      ],
      "source": [
        "#factorial #\n",
        "def mul(n):\n",
        "  fact=1\n",
        "  for i in range(1,n+1):\n",
        "    fact=fact*i\n",
        "  return fact\n",
        "a=mul(10)\n",
        "b=mul(5)\n",
        "print(a)\n",
        "print(b)"
      ]
    },
    {
      "cell_type": "code",
      "execution_count": null,
      "metadata": {
        "colab": {
          "base_uri": "https://localhost:8080/"
        },
        "id": "82HXU0pX2ZaO",
        "outputId": "bb963ab5-8f1c-4b95-ee84-a40de815a605"
      },
      "outputs": [
        {
          "name": "stdout",
          "output_type": "stream",
          "text": [
            "13\n",
            "19\n"
          ]
        }
      ],
      "source": [
        "#add\n",
        "def add(a,b,c):\n",
        "  return a+b+c\n",
        "a=add(2,5,6)\n",
        "b=add(9,4,6)\n",
        "print(a)\n",
        "print(b)"
      ]
    },
    {
      "cell_type": "code",
      "execution_count": null,
      "metadata": {
        "colab": {
          "base_uri": "https://localhost:8080/"
        },
        "id": "FMJRL2LT4AbK",
        "outputId": "05cd07eb-7d21-4612-9ee8-f6bbbe6d8be2"
      },
      "outputs": [
        {
          "name": "stdout",
          "output_type": "stream",
          "text": [
            "jiwan\n",
            "16\n",
            "26000\n"
          ]
        }
      ],
      "source": [
        "def biodata(name,age,salary):\n",
        "  print(name)\n",
        "  print(age)\n",
        "  print(salary)\n",
        "a=biodata(\"jiwan\",16,26000)\n"
      ]
    },
    {
      "cell_type": "code",
      "execution_count": null,
      "metadata": {
        "colab": {
          "base_uri": "https://localhost:8080/"
        },
        "id": "cecWkJoV7lbT",
        "outputId": "bce54558-df6a-47e0-ece2-773f351f9400"
      },
      "outputs": [
        {
          "name": "stdout",
          "output_type": "stream",
          "text": [
            "55\n"
          ]
        }
      ],
      "source": [
        "#sum fuction #use\n",
        "\n",
        "def add(n):\n",
        "  sum=0\n",
        "  for i in range(0,n+1):\n",
        "   sum=sum+i\n",
        "  print(sum)\n",
        "#call\n",
        "\n",
        "add(10)\n",
        "\n",
        "\n"
      ]
    },
    {
      "cell_type": "code",
      "execution_count": null,
      "metadata": {
        "colab": {
          "base_uri": "https://localhost:8080/"
        },
        "id": "vP7K1-TM8Dq2",
        "outputId": "3ad09628-3b7b-4463-8fcb-c7c4a1750c89"
      },
      "outputs": [
        {
          "name": "stdout",
          "output_type": "stream",
          "text": [
            "0\n",
            "1\n",
            "1\n",
            "2\n",
            "3\n",
            "5\n",
            "8\n",
            "13\n",
            "21\n"
          ]
        }
      ],
      "source": [
        "#fabocier\n",
        "def add(n):\n",
        "  first=0\n",
        "  second=1\n",
        "  n=0\n",
        "  while(n<=8):\n",
        "   print(first)\n",
        "   first,second=second,first+second\n",
        "   n=n+1\n",
        "\n",
        "add(10)\n",
        "\n"
      ]
    },
    {
      "cell_type": "code",
      "execution_count": null,
      "metadata": {
        "colab": {
          "base_uri": "https://localhost:8080/"
        },
        "id": "LGGvvI0PASlh",
        "outputId": "8455a737-b4e1-48b2-df7d-2e259cc5be16"
      },
      "outputs": [
        {
          "name": "stdout",
          "output_type": "stream",
          "text": [
            "120\n",
            "2\n"
          ]
        }
      ],
      "source": [
        "#factorial use by function\n",
        "def fact(n):\n",
        "  fact=1\n",
        "  sum=0\n",
        "  for i in range(1,n+1):\n",
        "    fact=fact*i\n",
        "  return fact\n",
        "\n",
        "a=fact(5)\n",
        "b=fact(2)\n",
        "print(a)\n",
        "print(b)\n",
        "\n",
        "\n"
      ]
    },
    {
      "cell_type": "code",
      "execution_count": 7,
      "metadata": {
        "colab": {
          "base_uri": "https://localhost:8080/"
        },
        "id": "xkHsSrMwEw3f",
        "outputId": "524f72d2-b61c-45ea-ebb0-9210dc14a9ee"
      },
      "outputs": [
        {
          "output_type": "stream",
          "name": "stdout",
          "text": [
            "120\n",
            "2\n"
          ]
        }
      ],
      "source": [
        "def fact(n):\n",
        "  fact=1\n",
        "  sum=0\n",
        "  for i in range(1,n+1):\n",
        "    fact=fact*i\n",
        "\n",
        "  return fact\n",
        "\n",
        "a=fact(5)\n",
        "b=fact(2)\n",
        "print(a)\n",
        "print(b)"
      ]
    },
    {
      "cell_type": "code",
      "execution_count": null,
      "metadata": {
        "colab": {
          "base_uri": "https://localhost:8080/"
        },
        "id": "EpALYk0UHp42",
        "outputId": "814b9a28-0068-4be8-e92d-959c97da53f0"
      },
      "outputs": [
        {
          "name": "stdout",
          "output_type": "stream",
          "text": [
            "1\n",
            "1\n",
            "3\n",
            "3\n",
            "15\n",
            "15\n",
            "15\n"
          ]
        }
      ],
      "source": [
        "def fact(n):\n",
        "  sum=0\n",
        "  factorial1=1\n",
        "  for i in range(1,n+1):\n",
        "    if(i%2!=0):\n",
        "      factorial1=factorial1*i\n",
        "    print(factorial1)\n",
        "  sum+=factorial1\n",
        "  print(factorial1)\n",
        "  print(sum)\n",
        "fact(5)\n",
        "\n",
        "\n"
      ]
    },
    {
      "cell_type": "code",
      "execution_count": null,
      "metadata": {
        "colab": {
          "base_uri": "https://localhost:8080/"
        },
        "id": "9zCwfiIVKV7x",
        "outputId": "d1e84819-08f3-4572-a170-5fff61c4dc4e"
      },
      "outputs": [
        {
          "name": "stdout",
          "output_type": "stream",
          "text": [
            "1\n",
            "2\n",
            "4\n",
            "10\n"
          ]
        }
      ],
      "source": [
        "def fact(n):\n",
        "  sum=0\n",
        "  fact=1\n",
        "  for i in range(1,n+1,2):\n",
        "    for y in range(1,i+1):\n",
        "      fact=fact*y\n",
        "      #print(fact)\n",
        "      sum=sum+fact\n",
        "      print(sum)\n",
        "\n",
        "x=4\n",
        "fact(x)"
      ]
    },
    {
      "cell_type": "code",
      "execution_count": null,
      "metadata": {
        "colab": {
          "base_uri": "https://localhost:8080/"
        },
        "id": "FTyQ9viaJw_h",
        "outputId": "ccece76d-0b01-4a0b-8029-c963005cf659"
      },
      "outputs": [
        {
          "name": "stdout",
          "output_type": "stream",
          "text": [
            "9\n",
            "12\n"
          ]
        }
      ],
      "source": [
        "def addnum(*args):\n",
        "  return sum(args)\n",
        "a=addnum(2,3,4)\n",
        "b=addnum(3,9)\n",
        "print(a)\n",
        "print(b)"
      ]
    },
    {
      "cell_type": "code",
      "execution_count": null,
      "metadata": {
        "colab": {
          "base_uri": "https://localhost:8080/"
        },
        "id": "Gkh57T20SliK",
        "outputId": "6fb6ba79-a1e2-47c5-a14a-16aa1e1e6f9d"
      },
      "outputs": [
        {
          "name": "stdout",
          "output_type": "stream",
          "text": [
            "9\n"
          ]
        }
      ],
      "source": [
        "#function\n",
        "def addnum(*arg):\n",
        "  sum=0\n",
        "  for i in arg:\n",
        "    sum=sum+i\n",
        "  return sum\n",
        "\n",
        "print(addnum(2,3,4))\n",
        "\n",
        "\n",
        "\n"
      ]
    },
    {
      "cell_type": "code",
      "execution_count": null,
      "metadata": {
        "colab": {
          "base_uri": "https://localhost:8080/"
        },
        "id": "4qfRFUfZMesr",
        "outputId": "ba437fe9-a218-40d8-dd46-7ebd6c4ae170"
      },
      "outputs": [
        {
          "name": "stdout",
          "output_type": "stream",
          "text": [
            "name=jiwan\n",
            "age=28\n"
          ]
        }
      ],
      "source": [
        "#key value\n",
        "def focus(**kwargs):\n",
        "  for key,value in kwargs.items():\n",
        "    print(f\"{key}={value}\")\n",
        "focus(name=\"jiwan\",age=28)"
      ]
    },
    {
      "cell_type": "code",
      "execution_count": null,
      "metadata": {
        "colab": {
          "base_uri": "https://localhost:8080/"
        },
        "id": "kgxWX6BpOZAG",
        "outputId": "45ba5c2a-c63e-44d4-9e76-21d9e4f77637"
      },
      "outputs": [
        {
          "name": "stdout",
          "output_type": "stream",
          "text": [
            "sum of 15 and sum of 2 is : 17\n"
          ]
        }
      ],
      "source": [
        "#f use\n",
        "a=15\n",
        "b=2\n",
        "print(f\"sum of {a} and sum of {b} is : {a+b}\")"
      ]
    },
    {
      "cell_type": "code",
      "execution_count": null,
      "metadata": {
        "colab": {
          "base_uri": "https://localhost:8080/"
        },
        "id": "gO_7OQB1R_EJ",
        "outputId": "0d7693a5-cf68-4185-8111-d1a9dd5bbf11"
      },
      "outputs": [
        {
          "name": "stdout",
          "output_type": "stream",
          "text": [
            "2\n",
            "6\n"
          ]
        },
        {
          "data": {
            "text/plain": [
              "3628800"
            ]
          },
          "execution_count": 22,
          "metadata": {},
          "output_type": "execute_result"
        }
      ],
      "source": [
        "def fact(n):\n",
        "  fact=1\n",
        "  sum=0\n",
        "  for i in range(1,n+1):\n",
        "    fact=fact*i\n",
        "  return fact+sum\n",
        "a=fact(2)\n",
        "b=fact(3)\n",
        "print(a)\n",
        "print(b)\n",
        "fact(10)\n"
      ]
    },
    {
      "cell_type": "code",
      "execution_count": 11,
      "metadata": {
        "colab": {
          "base_uri": "https://localhost:8080/"
        },
        "id": "PQKajEk2TT8I",
        "outputId": "2dec0a90-1371-4766-edef-eb280dd1e2e4"
      },
      "outputs": [
        {
          "output_type": "stream",
          "name": "stdout",
          "text": [
            "120\n",
            "6\n"
          ]
        }
      ],
      "source": [
        "def fact(n):#back se start hoga\n",
        "  if n==0 or n==1:\n",
        "    return 1\n",
        "  else:\n",
        "    return n*fact(n-1)\n",
        "a=fact(5)\n",
        "b=fact(3)\n",
        "print(a)\n",
        "print(b)\n",
        "\n"
      ]
    },
    {
      "cell_type": "code",
      "execution_count": null,
      "metadata": {
        "colab": {
          "base_uri": "https://localhost:8080/"
        },
        "id": "u4vsTxYbUrjN",
        "outputId": "f9feefcc-72b4-49aa-9896-c9dfe8203ace"
      },
      "outputs": [
        {
          "name": "stdout",
          "output_type": "stream",
          "text": [
            "10\n"
          ]
        }
      ],
      "source": [
        "a=lambda a,b:a+b\n",
        "print(a(3,7))\n"
      ]
    },
    {
      "cell_type": "code",
      "execution_count": 16,
      "metadata": {
        "colab": {
          "base_uri": "https://localhost:8080/"
        },
        "id": "1WdyQ_MQVl4S",
        "outputId": "fb5d77fe-306f-4903-95f6-96169adc8f07"
      },
      "outputs": [
        {
          "output_type": "stream",
          "name": "stdout",
          "text": [
            "factorial of 1 is 1 \n",
            "1\n",
            "factorial of 3 is 6 \n",
            "7\n",
            "factorial of 5 is 120 \n",
            "127\n"
          ]
        }
      ],
      "source": [
        "def fact(n):\n",
        "  fact=1\n",
        "  sum=0\n",
        "\n",
        "  for i in range(1,n+1):\n",
        "    fact=fact*i\n",
        "    if(i%2!=0):\n",
        "      print(f\"factorial of {i} is {fact} \")\n",
        "      sum=sum+fact\n",
        "      print(sum)\n",
        "x=5\n",
        "fact(x)\n",
        "\n",
        "\n",
        "\n",
        "\n",
        "\n",
        "\n",
        "\n"
      ]
    },
    {
      "cell_type": "code",
      "execution_count": 4,
      "metadata": {
        "colab": {
          "base_uri": "https://localhost:8080/"
        },
        "id": "6IZuu3tGatTh",
        "outputId": "ea5764f6-2f47-4300-9876-79af7a79d1c0"
      },
      "outputs": [
        {
          "output_type": "stream",
          "name": "stdout",
          "text": [
            "factories : 1 \n",
            "factories : 2 \n",
            "factories : 3 \n",
            "factories : 5 \n",
            "factories : 6 \n",
            "factories : 10 \n",
            "factories : 15 \n",
            "factories : 30 \n"
          ]
        }
      ],
      "source": [
        "#factories\n",
        "def fact(n):\n",
        " for i in range(1,n+1):\n",
        "  if(n%i==0):\n",
        "    print(f\"factories : {i} \")\n",
        "\n",
        "x=30\n",
        "fact(x)\n",
        "\n",
        "\n"
      ]
    },
    {
      "cell_type": "code",
      "execution_count": null,
      "metadata": {
        "colab": {
          "base_uri": "https://localhost:8080/"
        },
        "id": "GG1pyG5cZpwB",
        "outputId": "abfb5bdc-2b3c-46e5-8c7d-053617e70d03"
      },
      "outputs": [
        {
          "name": "stdout",
          "output_type": "stream",
          "text": [
            "5\n"
          ]
        }
      ],
      "source": [
        "\n",
        "#hcf formula\n",
        "def find_hcf(a,b):\n",
        "  while(b):\n",
        "   a,b=b,a%b\n",
        "  return a\n",
        "num1=10\n",
        "num2=15\n",
        "print(find_hcf(num1,num2))\n",
        "\n",
        "\n",
        "\n",
        "\n",
        "\n"
      ]
    },
    {
      "cell_type": "code",
      "execution_count": 14,
      "metadata": {
        "colab": {
          "base_uri": "https://localhost:8080/",
          "height": 373
        },
        "id": "jzN1wWlXoDJo",
        "outputId": "a3ef4cd7-2c62-425d-bc77-cff04812384f"
      },
      "outputs": [
        {
          "output_type": "error",
          "ename": "RecursionError",
          "evalue": "maximum recursion depth exceeded",
          "traceback": [
            "\u001b[0;31m---------------------------------------------------------------------------\u001b[0m",
            "\u001b[0;31mRecursionError\u001b[0m                            Traceback (most recent call last)",
            "\u001b[0;32m/tmp/ipython-input-3053037197.py\u001b[0m in \u001b[0;36m<cell line: 0>\u001b[0;34m()\u001b[0m\n\u001b[1;32m      5\u001b[0m \u001b[0mnum2\u001b[0m\u001b[0;34m=\u001b[0m\u001b[0;36m300\u001b[0m\u001b[0;34m\u001b[0m\u001b[0;34m\u001b[0m\u001b[0m\n\u001b[1;32m      6\u001b[0m \u001b[0;34m\u001b[0m\u001b[0m\n\u001b[0;32m----> 7\u001b[0;31m \u001b[0mprint\u001b[0m\u001b[0;34m(\u001b[0m\u001b[0mfind_lcm\u001b[0m\u001b[0;34m(\u001b[0m\u001b[0mnum1\u001b[0m\u001b[0;34m,\u001b[0m\u001b[0mnum2\u001b[0m\u001b[0;34m)\u001b[0m\u001b[0;34m)\u001b[0m\u001b[0;34m\u001b[0m\u001b[0;34m\u001b[0m\u001b[0m\n\u001b[0m\u001b[1;32m      8\u001b[0m \u001b[0;34m\u001b[0m\u001b[0m\n",
            "\u001b[0;32m/tmp/ipython-input-3053037197.py\u001b[0m in \u001b[0;36mfind_lcm\u001b[0;34m(a, b)\u001b[0m\n\u001b[1;32m      1\u001b[0m \u001b[0;32mdef\u001b[0m \u001b[0mfind_lcm\u001b[0m\u001b[0;34m(\u001b[0m\u001b[0ma\u001b[0m\u001b[0;34m,\u001b[0m\u001b[0mb\u001b[0m\u001b[0;34m)\u001b[0m\u001b[0;34m:\u001b[0m\u001b[0;34m\u001b[0m\u001b[0;34m\u001b[0m\u001b[0m\n\u001b[0;32m----> 2\u001b[0;31m   \u001b[0mlcm\u001b[0m\u001b[0;34m=\u001b[0m\u001b[0;34m(\u001b[0m\u001b[0ma\u001b[0m\u001b[0;34m*\u001b[0m\u001b[0mb\u001b[0m\u001b[0;34m)\u001b[0m\u001b[0;34m/\u001b[0m\u001b[0mfind_lcm\u001b[0m\u001b[0;34m(\u001b[0m\u001b[0ma\u001b[0m\u001b[0;34m,\u001b[0m\u001b[0mb\u001b[0m\u001b[0;34m)\u001b[0m\u001b[0;34m\u001b[0m\u001b[0;34m\u001b[0m\u001b[0m\n\u001b[0m\u001b[1;32m      3\u001b[0m   \u001b[0;32mreturn\u001b[0m \u001b[0mlcm\u001b[0m\u001b[0;34m\u001b[0m\u001b[0;34m\u001b[0m\u001b[0m\n\u001b[1;32m      4\u001b[0m \u001b[0mnum1\u001b[0m\u001b[0;34m=\u001b[0m\u001b[0;36m150\u001b[0m\u001b[0;34m\u001b[0m\u001b[0;34m\u001b[0m\u001b[0m\n\u001b[1;32m      5\u001b[0m \u001b[0mnum2\u001b[0m\u001b[0;34m=\u001b[0m\u001b[0;36m300\u001b[0m\u001b[0;34m\u001b[0m\u001b[0;34m\u001b[0m\u001b[0m\n",
            "... last 1 frames repeated, from the frame below ...\n",
            "\u001b[0;32m/tmp/ipython-input-3053037197.py\u001b[0m in \u001b[0;36mfind_lcm\u001b[0;34m(a, b)\u001b[0m\n\u001b[1;32m      1\u001b[0m \u001b[0;32mdef\u001b[0m \u001b[0mfind_lcm\u001b[0m\u001b[0;34m(\u001b[0m\u001b[0ma\u001b[0m\u001b[0;34m,\u001b[0m\u001b[0mb\u001b[0m\u001b[0;34m)\u001b[0m\u001b[0;34m:\u001b[0m\u001b[0;34m\u001b[0m\u001b[0;34m\u001b[0m\u001b[0m\n\u001b[0;32m----> 2\u001b[0;31m   \u001b[0mlcm\u001b[0m\u001b[0;34m=\u001b[0m\u001b[0;34m(\u001b[0m\u001b[0ma\u001b[0m\u001b[0;34m*\u001b[0m\u001b[0mb\u001b[0m\u001b[0;34m)\u001b[0m\u001b[0;34m/\u001b[0m\u001b[0mfind_lcm\u001b[0m\u001b[0;34m(\u001b[0m\u001b[0ma\u001b[0m\u001b[0;34m,\u001b[0m\u001b[0mb\u001b[0m\u001b[0;34m)\u001b[0m\u001b[0;34m\u001b[0m\u001b[0;34m\u001b[0m\u001b[0m\n\u001b[0m\u001b[1;32m      3\u001b[0m   \u001b[0;32mreturn\u001b[0m \u001b[0mlcm\u001b[0m\u001b[0;34m\u001b[0m\u001b[0;34m\u001b[0m\u001b[0m\n\u001b[1;32m      4\u001b[0m \u001b[0mnum1\u001b[0m\u001b[0;34m=\u001b[0m\u001b[0;36m150\u001b[0m\u001b[0;34m\u001b[0m\u001b[0;34m\u001b[0m\u001b[0m\n\u001b[1;32m      5\u001b[0m \u001b[0mnum2\u001b[0m\u001b[0;34m=\u001b[0m\u001b[0;36m300\u001b[0m\u001b[0;34m\u001b[0m\u001b[0;34m\u001b[0m\u001b[0m\n",
            "\u001b[0;31mRecursionError\u001b[0m: maximum recursion depth exceeded"
          ]
        }
      ],
      "source": [
        "def find_lcm(a,b):\n",
        "  lcm=(a*b)/find_lcm(a,b)\n",
        "  return lcm\n",
        "num1=150\n",
        "num2=300\n",
        "\n",
        "print(find_lcm(num1,num2))\n",
        "\n"
      ]
    }
  ],
  "metadata": {
    "colab": {
      "provenance": [],
      "authorship_tag": "ABX9TyNxQWB6aci/M+ZQo2yCMVzE",
      "include_colab_link": true
    },
    "kernelspec": {
      "display_name": "Python 3",
      "name": "python3"
    },
    "language_info": {
      "name": "python"
    }
  },
  "nbformat": 4,
  "nbformat_minor": 0
}