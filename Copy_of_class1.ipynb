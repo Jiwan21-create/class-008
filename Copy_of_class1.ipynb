{
  "nbformat": 4,
  "nbformat_minor": 0,
  "metadata": {
    "colab": {
      "provenance": [],
      "authorship_tag": "ABX9TyOZZOgV05OiWKwJKQlBU1uo",
      "include_colab_link": true
    },
    "kernelspec": {
      "name": "python3",
      "display_name": "Python 3"
    },
    "language_info": {
      "name": "python"
    }
  },
  "cells": [
    {
      "cell_type": "markdown",
      "metadata": {
        "id": "view-in-github",
        "colab_type": "text"
      },
      "source": [
        "<a href=\"https://colab.research.google.com/github/Jiwan21-create/class-008/blob/main/Copy_of_class1.ipynb\" target=\"_parent\"><img src=\"https://colab.research.google.com/assets/colab-badge.svg\" alt=\"Open In Colab\"/></a>"
      ]
    },
    {
      "cell_type": "code",
      "execution_count": null,
      "metadata": {
        "id": "7u0nX9s200MB"
      },
      "outputs": [],
      "source": []
    },
    {
      "cell_type": "code",
      "source": [
        "a = 2\n",
        "b = 1\n",
        "print (\"sum of a and b\" ,a+b)"
      ],
      "metadata": {
        "colab": {
          "base_uri": "https://localhost:8080/"
        },
        "id": "kD4bQUkZ07yB",
        "outputId": "079645df-eb3d-44da-9820-a5b6813a6532"
      },
      "execution_count": null,
      "outputs": [
        {
          "output_type": "stream",
          "name": "stdout",
          "text": [
            "sum of a and b 3\n"
          ]
        }
      ]
    },
    {
      "cell_type": "markdown",
      "source": [],
      "metadata": {
        "id": "20S54NsN2BeB"
      }
    },
    {
      "cell_type": "code",
      "source": [
        "a = \"jiwan\"\n",
        "print(a)\n",
        "b = 17\n",
        "print(b)"
      ],
      "metadata": {
        "colab": {
          "base_uri": "https://localhost:8080/"
        },
        "id": "XGV9tN-f2C23",
        "outputId": "bf15d865-bedb-4612-f42c-0072ba08036e"
      },
      "execution_count": null,
      "outputs": [
        {
          "output_type": "stream",
          "name": "stdout",
          "text": [
            "jiwan\n",
            "17\n"
          ]
        }
      ]
    },
    {
      "cell_type": "code",
      "source": [
        "a = 21\n",
        "print(a)"
      ],
      "metadata": {
        "colab": {
          "base_uri": "https://localhost:8080/"
        },
        "id": "Wg6o6mxY6WWr",
        "outputId": "58d84255-b146-484f-829b-db31d1731ab0"
      },
      "execution_count": 1,
      "outputs": [
        {
          "output_type": "stream",
          "name": "stdout",
          "text": [
            "21\n"
          ]
        }
      ]
    },
    {
      "cell_type": "code",
      "source": [],
      "metadata": {
        "id": "QQCZMIKV4wv1"
      },
      "execution_count": null,
      "outputs": []
    },
    {
      "cell_type": "code",
      "source": [],
      "metadata": {
        "id": "cbnqxu-r4yE3"
      },
      "execution_count": null,
      "outputs": []
    },
    {
      "cell_type": "code",
      "source": [
        "print(\"my name is jiwan singh\")\n",
        "print(\"my age is 17 years\")\n",
        "print(\"i am study in class 11th\")\n",
        "print(\"i live currently in chandigarh\")\n",
        "print(\"i am choseing commerce stream\")\n",
        "print(\"my hobbies are playing games\")"
      ],
      "metadata": {
        "colab": {
          "base_uri": "https://localhost:8080/"
        },
        "id": "rddz2FRk2-MU",
        "outputId": "57a62a4b-701b-4239-c0db-e78e24f3156d"
      },
      "execution_count": null,
      "outputs": [
        {
          "output_type": "stream",
          "name": "stdout",
          "text": [
            "my name is jiwan singh\n",
            "my age is 17 years\n",
            "i am study in class 11th\n",
            "i live currently in chandigarh\n",
            "i am choseing commerce stream\n",
            "my hobbies are playing games\n"
          ]
        }
      ]
    },
    {
      "cell_type": "code",
      "source": [
        "a = (\"my name is jiwan\")\n",
        "print (a)\n",
        "b = (\"my hobbies are reading books\")\n",
        "print (b)"
      ],
      "metadata": {
        "colab": {
          "base_uri": "https://localhost:8080/"
        },
        "id": "O35yDcBP33Ns",
        "outputId": "81994a6f-05b6-4188-a06b-c7b9b5346ff2"
      },
      "execution_count": null,
      "outputs": [
        {
          "output_type": "stream",
          "name": "stdout",
          "text": [
            "my name is jiwan\n",
            "my hobbies are reading books\n"
          ]
        }
      ]
    },
    {
      "cell_type": "code",
      "source": [
        "print(\" list 5 population state\")\n",
        "print(\"1. utter pradesh population is 199812341\")\n",
        "print(\"2. maharashtra population is 112372972\")\n",
        "print(\"3. bihara population is 103812341\")\n",
        "print(\"4. west bengal population is 91347736\")\n",
        "print(\"5. madhya pradesh population is 72597565\")\n"
      ],
      "metadata": {
        "colab": {
          "base_uri": "https://localhost:8080/"
        },
        "id": "e6cIio3g9IGP",
        "outputId": "e84170c6-5afb-492f-b947-6ffeb0ff7e76"
      },
      "execution_count": 4,
      "outputs": [
        {
          "output_type": "stream",
          "name": "stdout",
          "text": [
            " list 5 population state\n",
            "1. utter pradesh population is 199812341\n",
            "2. maharashtra population is 112372972\n",
            "3. bihara population is 103812341\n",
            "4. west bengal population is 91347736\n",
            "5. madhya pradesh population is 72597565\n"
          ]
        }
      ]
    },
    {
      "cell_type": "code",
      "source": [
        "a = (\"jiwan\")\n",
        "b = (\" kundan \")\n",
        "print(a+b)"
      ],
      "metadata": {
        "colab": {
          "base_uri": "https://localhost:8080/"
        },
        "id": "61dTam21_VLd",
        "outputId": "1ae7dbf7-cabf-4ce1-d7e4-63f268dc9917"
      },
      "execution_count": 8,
      "outputs": [
        {
          "output_type": "stream",
          "name": "stdout",
          "text": [
            "jiwan kundan \n"
          ]
        }
      ]
    },
    {
      "cell_type": "code",
      "source": [
        "print(\"account holder details \")\n",
        "print(\"account holder name = jiwan\")\n",
        "print(\"registered mobile number = 8146352203\")\n",
        "print(\"residential address = 59\")\n",
        "print(\"account type = personal\")\n",
        "print(\"account balance = 23145\")\n"
      ],
      "metadata": {
        "colab": {
          "base_uri": "https://localhost:8080/"
        },
        "id": "oTGiDFkpArRo",
        "outputId": "2bdd25ff-48fc-4743-a6ae-1c2592cdcbc3"
      },
      "execution_count": 10,
      "outputs": [
        {
          "output_type": "stream",
          "name": "stdout",
          "text": [
            "account holder details \n",
            "account holder name = jiwan\n",
            "registered mobile number = 8146352203\n",
            "residential address = 59\n",
            "account type = personal\n",
            "account balance = 23145\n"
          ]
        }
      ]
    },
    {
      "cell_type": "code",
      "source": [
        "a = 2\n",
        "b = 3\n",
        "print(a+b)"
      ],
      "metadata": {
        "colab": {
          "base_uri": "https://localhost:8080/"
        },
        "id": "Rod9MY0wANJ9",
        "outputId": "6c8dd252-8720-4c44-9905-941af9668aac"
      },
      "execution_count": 7,
      "outputs": [
        {
          "output_type": "stream",
          "name": "stdout",
          "text": [
            "5\n"
          ]
        }
      ]
    }
  ]
}