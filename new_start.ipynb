{
  "nbformat": 4,
  "nbformat_minor": 0,
  "metadata": {
    "colab": {
      "provenance": [],
      "authorship_tag": "ABX9TyOkYEbg6u+By1SymDG/tFzA",
      "include_colab_link": true
    },
    "kernelspec": {
      "name": "python3",
      "display_name": "Python 3"
    },
    "language_info": {
      "name": "python"
    }
  },
  "cells": [
    {
      "cell_type": "markdown",
      "metadata": {
        "id": "view-in-github",
        "colab_type": "text"
      },
      "source": [
        "<a href=\"https://colab.research.google.com/github/Jiwan21-create/class-008/blob/main/new_start.ipynb\" target=\"_parent\"><img src=\"https://colab.research.google.com/assets/colab-badge.svg\" alt=\"Open In Colab\"/></a>"
      ]
    },
    {
      "cell_type": "markdown",
      "source": [
        "original made by myself\n",
        "\n",
        "and\n",
        "don not repeat mistake again\n",
        "\n",
        ".space  .int use in number term fill in input . float . input only use in words type"
      ],
      "metadata": {
        "id": "-rMICx_WrqJG"
      }
    },
    {
      "cell_type": "code",
      "execution_count": null,
      "metadata": {
        "colab": {
          "base_uri": "https://localhost:8080/"
        },
        "id": "EVRYe1OHfa0-",
        "outputId": "f8860133-2fb6-425b-e6fa-88df2f6d094d"
      },
      "outputs": [
        {
          "output_type": "stream",
          "name": "stdout",
          "text": [
            "--------railway tickets book online in simple way---------------------\n",
            "enter the gender of ticket person (male/female);male\n",
            "enter the age of person38\n",
            "SA TRAIN\n",
            "middle class in male box\n"
          ]
        }
      ],
      "source": [
        "#railway station\n",
        "print(\"--------railway tickets book online in simple way---------------------\")\n",
        "gender_ticket=input(\"enter the gender of ticket person (male/female);\")\n",
        "age=int(input(\"enter the age of person\"))\n",
        "\n",
        "if gender_ticket==\"male\":\n",
        "  print(\"SA TRAIN\")\n",
        "  if age>60:\n",
        "    print(\"lower class in male box\")\n",
        "  elif age>=30 and age<=60:\n",
        "    print(\"middle class in male box\")\n",
        "  elif age<30:\n",
        "    print(\"upper class in male box\")\n",
        "  else:\n",
        "    print(\"not reserved\")\n",
        "\n",
        "elif gender_ticket==\"female\":\n",
        "  print(\"SB TRAIN\")\n",
        "  if age>60:\n",
        "    print(\"lower class in female box\")\n",
        "  elif age>=30 and age<=60:\n",
        "    print(\"middle class in female box\")\n",
        "  elif age<30:\n",
        "    print(\"upper class in female box\")\n",
        "  else:\n",
        "    print(\"not reserved\")\n",
        "\n",
        "else:\n",
        "  print(\"invalid gender,seat not book\")\n",
        "\n"
      ]
    },
    {
      "cell_type": "markdown",
      "source": [
        "railway sation again made code,\n",
        "\n",
        "and () use in before the if and elif\n",
        "\n",
        "and,\n",
        "or use in both of one :\n",
        "\n",
        "and use in both are choose"
      ],
      "metadata": {
        "id": "3RLBi0Asq5cR"
      }
    },
    {
      "cell_type": "code",
      "source": [
        "#()use in if (ticket==1 or ticket==2), only take one example.we are see in code\n",
        "print(\"---raiway station ticket retuen sold----| \")\n",
        "ticket=int(input(\"enter the value of tickets 1,2,3 : \"))\n",
        "if(ticket==1 or ticket==2):\n",
        "  print(\"ticket booked for no.123 class luxury\")\n",
        "  age = int(input(\"enter your age : \"))\n",
        "  if (age>60):\n",
        "    print(\"lower class\")\n",
        "  else:\n",
        "    print(\"upper class\")\n",
        "elif(ticket==3):\n",
        "  print(\"ticket booked for no.456 class non luxury\")\n",
        "  age = int(input(\"enter your age : \"))\n",
        "  if(age<30):\n",
        "    print(\"lower class\")\n",
        "  elif(age>30 and age<60):\n",
        "    print(\"middle class\")\n",
        "  else:\n",
        "    print(\"upper class\")\n",
        "else:\n",
        "  print(\"invalid input\")"
      ],
      "metadata": {
        "colab": {
          "base_uri": "https://localhost:8080/"
        },
        "id": "5IB4iDvRf2Qr",
        "outputId": "5452928b-97d0-476f-936c-11487200955e"
      },
      "execution_count": null,
      "outputs": [
        {
          "output_type": "stream",
          "name": "stdout",
          "text": [
            "---raiway station ticket retuen sold----| \n",
            "enter the value of tickets 1,2,3 : 3\n",
            "ticket booked for no.456 class non luxury\n",
            "enter your age : 45\n",
            "middle class\n"
          ]
        }
      ]
    },
    {
      "cell_type": "markdown",
      "source": [
        "focus on logic and some time not use else due to right logic help in find result only.\n",
        "\n",
        ". = some time use or not depend on myself  and some condition use"
      ],
      "metadata": {
        "id": "wqmvHm04xLXU"
      }
    },
    {
      "cell_type": "code",
      "source": [
        "print(\"----school report-----\")\n",
        "# focus on logic and logic is right so some time don't use else then colab deacted the logic only and show result\n",
        "# use = in no. terms some time and not use in some time\n",
        "marks = int(input(\"enter the marks : \"))\n",
        "if marks>60:\n",
        "  print(\"first division\")\n",
        "  if age>90:\n",
        "    print(\"grade A+\")\n",
        "  elif age>80:\n",
        "    print(\"grade A\")\n",
        "  elif age>70:\n",
        "    print(\"grade B+\")\n",
        "  elif age>60:\n",
        "    print(\"grade B\")\n",
        "elif marks>40:\n",
        "  print(\"second division\")\n",
        "  if age>50:\n",
        "      print(\"grade C+\")\n",
        "  elif age>40:\n",
        "      print(\"grade C\")\n",
        "elif marks>30:\n",
        "  print(\"third division\")\n",
        "  print(\"grade D\")\n",
        "else:\n",
        "  print(\"fail try again----\")\n",
        "\n",
        "\n",
        "\n"
      ],
      "metadata": {
        "colab": {
          "base_uri": "https://localhost:8080/"
        },
        "id": "2mzQxHr7qhNh",
        "outputId": "f6dea9e3-3edb-4a73-ac4d-b953c1796a2c"
      },
      "execution_count": null,
      "outputs": [
        {
          "output_type": "stream",
          "name": "stdout",
          "text": [
            "----school report-----\n",
            "enter the marks : 33\n",
            "third division\n",
            "grade D\n"
          ]
        }
      ]
    },
    {
      "cell_type": "markdown",
      "source": [
        "hostel report on very logical mind"
      ],
      "metadata": {
        "id": "ZuHqETTz9--d"
      }
    },
    {
      "cell_type": "code",
      "source": [
        "# room of hostel\n",
        "gender=input(\"enter the gender : \")\n",
        "age=int(input(\"enter the age : \"))\n",
        "if gender==\"male\" or gender==\"female\":\n",
        "  if gender==\"male\":\n",
        "   print(\"hotel alloted the sun park \")\n",
        "   if age<=60:\n",
        "    print(\"section A in hotel\")\n",
        "   elif age<30:\n",
        "    print(\"section B in hotel\")\n",
        "   elif age>30 and age<100:\n",
        "    print(\"section C in hotel\")\n",
        "   else:\n",
        "      print(\"section not alloted\")\n",
        "  else:\n",
        "    print(\"hotel alloted the sun park BBBB2 part\")\n",
        "    if age<30:\n",
        "      print(\"block 1\")\n",
        "    elif age>30:\n",
        "      print(\"block 2\")\n",
        "elif gender==\"others\":\n",
        "  print(\"hotel alloted blue bird\")\n",
        "  print(\" full section A  in hotel\")\n",
        "else:\n",
        "  print(\"no  relevant output show\")"
      ],
      "metadata": {
        "colab": {
          "base_uri": "https://localhost:8080/"
        },
        "id": "LgoPvTtH6Tha",
        "outputId": "3abb95f9-5809-4670-99ab-6f40ca8c0b7b"
      },
      "execution_count": null,
      "outputs": [
        {
          "output_type": "stream",
          "name": "stdout",
          "text": [
            "enter the gender : female\n",
            "enter the age : 56\n",
            "hotel alloted the sun park BBBB2 part\n",
            "block 2\n"
          ]
        }
      ]
    },
    {
      "cell_type": "markdown",
      "source": [
        "hotel report make a different  in easyy way\n"
      ],
      "metadata": {
        "id": "eR-mOlzh-2sU"
      }
    },
    {
      "cell_type": "code",
      "source": [
        "# room of hostel\n",
        "gender=input(\"enter the gender : \")\n",
        "age=int(input(\"enter the age : \"))\n",
        "if gender==\"male\":\n",
        "  print(\"hotel alloted the sun park \")\n",
        "  if age>=60:\n",
        "    print(\"section A in hotel\")\n",
        "  elif age<30:\n",
        "    print(\"section B in hotel\")\n",
        "  elif age>30 and age<60:\n",
        "    print(\"section C in hotel\")\n",
        "elif gender==\"female\":\n",
        "  print(\"hotel alloted the sun park (B place)\")\n",
        "  if age>=60:\n",
        "    print(\"section A in hotel (B place)\")\n",
        "  elif age<30:\n",
        "    print(\"section B in hotel(B place)\")\n",
        "  elif age>30 and age<60:\n",
        "    print(\"section C in hotel (B place)\")\n",
        "elif gender==\"others\":\n",
        "  print(\"hotel alloted blue bird\")\n",
        "  print(\" full section A  in hotel\")\n",
        "else:\n",
        "  print(\"no  relevant output show\")"
      ],
      "metadata": {
        "colab": {
          "base_uri": "https://localhost:8080/"
        },
        "id": "U68mcw3G93ug",
        "outputId": "18db6c55-5431-4aca-c189-81ffda3bccda"
      },
      "execution_count": null,
      "outputs": [
        {
          "output_type": "stream",
          "name": "stdout",
          "text": [
            "enter the gender : others\n",
            "enter the age : 45\n",
            "hotel alloted blue bird\n",
            " full section A  in hotel\n"
          ]
        }
      ]
    },
    {
      "cell_type": "markdown",
      "source": [
        "blood pressure  and sugar level report errrrorrrrrrrrrrrrrrrrrrrrrrrrrrrrrrrrrrrrrrr"
      ],
      "metadata": {
        "id": "TEldEVRPYFPU"
      }
    },
    {
      "cell_type": "code",
      "source": [
        "# health report\n",
        "gender=input(\"enter the gender\")\n",
        "age=int(input(\"enter the age\"))\n",
        "blood_pressure=int(input(\"enter the blood pressure\"))\n",
        "sugar_level=int(input(\"enter the sugar level\"))\n",
        "if gender==\"male\" or \"female\":\n",
        "  if gender==\"male\":\n",
        "    print(\" male strength is much\")\n",
        "    if age>10 and age<30:\n",
        "      print(\"weak body system\")\n",
        "    elif age>30 and age<70:\n",
        "      print(\"strong body system\")\n",
        "    elif age>70 and age<100:\n",
        "      print(\"moderate body system\")\n",
        "      if blood_pressure >=0 <50:\n",
        "        print(\" low blood pressure\")\n",
        "      elif blood_pressure >50 <100:\n",
        "        print(\"normal blood pressure\")\n",
        "      elif blood_pressure >100 <150:\n",
        "        print(\"high blood pressure\")\n",
        "        if sugar_level >0 <50:\n",
        "          print(\"low sugar\")\n",
        "        elif sugar_level >50 <100:\n",
        "          print(\"normal sugar\")\n",
        "        elif sugar_level >100 <150:\n",
        "          print(\"high sugar\")\n",
        "        else:\n",
        "          print(\"most high sugar\")\n",
        "      else:\n",
        "         print(\"most high blood pressure\")\n",
        "    else:\n",
        "       print(\"very very very  weak body system\")\n",
        "       if age>10 and age<30:\n",
        "            print(\"weak body system is female\")\n",
        "       elif age>30 and age<60:\n",
        "            print(\"strong body system is female\")\n",
        "  else:\n",
        "    print(\"female strengh is less\")\n",
        "else:\n",
        "  print(\"no output\")\n",
        "\n",
        "\n",
        "\n"
      ],
      "metadata": {
        "colab": {
          "base_uri": "https://localhost:8080/"
        },
        "id": "4oorHgxzDBe3",
        "outputId": "5375a9c8-f258-42c9-e3ab-10fc1600cab7"
      },
      "execution_count": 29,
      "outputs": [
        {
          "output_type": "stream",
          "name": "stdout",
          "text": [
            "enter the gender male\n",
            "enter the age 56\n",
            "enter the blood pressure 24\n",
            "enter the sugar level 56\n",
            "female strengh is less\n"
          ]
        }
      ]
    },
    {
      "cell_type": "markdown",
      "source": [
        "simple blood pressure and sugar pressure error"
      ],
      "metadata": {
        "id": "znpqTfKua05C"
      }
    },
    {
      "cell_type": "code",
      "source": [
        "#simple blood pressure and sugar pressure\n",
        "gender=input(\"enter the gender\")\n",
        "age=int(input(\"enter the age\"))\n",
        "blood_pressure=int(input(\"enter the blood pressure\"))\n",
        "sugar_level=int(input(\"enter the sugar level\"))\n",
        "if blood_pressure >=0 <50:\n",
        "        print(\" low blood pressure\")\n",
        "if blood_pressure >=50 <100:\n",
        "        print(\"normal blood pressure\")\n",
        "if blood_pressure >=100 <150:\n",
        "        print(\"high blood pressure\")\n",
        "else:\n",
        "        print(\"most high blood pressure\")\n",
        "        if sugar_level >=0 <50:\n",
        "          print(\"low sugar\")\n",
        "        if sugar_level >=50 <100:\n",
        "          print(\"normal sugar\")\n",
        "        if sugar_level >=100 <150:\n",
        "          print(\"high sugar\")\n",
        "        else:\n",
        "          print(\"most high sugar\")\n",
        "\n",
        "\n",
        "\n"
      ],
      "metadata": {
        "colab": {
          "base_uri": "https://localhost:8080/"
        },
        "id": "HdzqBJMcapYz",
        "outputId": "76400e0a-9d85-46a6-b025-80b5eba18372"
      },
      "execution_count": null,
      "outputs": [
        {
          "output_type": "stream",
          "name": "stdout",
          "text": [
            "enter the gendermale\n",
            "enter the age67\n",
            "enter the blood pressure87\n",
            "enter the sugar level98\n",
            " low blood pressure\n",
            "normal blood pressure\n",
            "most high blood pressure\n",
            "low sugar\n",
            "normal sugar\n",
            "most high sugar\n"
          ]
        }
      ]
    },
    {
      "cell_type": "markdown",
      "source": [
        "simple interset"
      ],
      "metadata": {
        "id": "b1chpe_Rc-fh"
      }
    },
    {
      "cell_type": "code",
      "source": [
        "#simple interset\n",
        "principle=int(input(\"enter the value of principle : \"))\n",
        "rate=int(input(\"enter the value of rate : \"))\n",
        "time=int(input(\"enter the time : \"))\n",
        "SI=(principle*rate*time)/100\n",
        "print(\"simple interset\",SI)\n"
      ],
      "metadata": {
        "colab": {
          "base_uri": "https://localhost:8080/"
        },
        "id": "GssdRea2ZCZc",
        "outputId": "c5c2bb73-d7bc-427a-911b-3a4ac3b01409"
      },
      "execution_count": null,
      "outputs": [
        {
          "output_type": "stream",
          "name": "stdout",
          "text": [
            "enter the value of principle : 450\n",
            "enter the value of rate : 12\n",
            "enter the time : 4\n",
            "simple interset 216.0\n"
          ]
        }
      ]
    },
    {
      "cell_type": "markdown",
      "source": [
        "simple interset in months and days"
      ],
      "metadata": {
        "id": "ZccxNCQ-eqhX"
      }
    },
    {
      "cell_type": "code",
      "source": [
        "#simple interset in days and months\n",
        "principle=int(input(\"enter the value of principle : \"))\n",
        "rate=int(input(\"enter the value of rate : \"))\n",
        "months=int(input(\"enter the months : \"))\n",
        "days=int(input(\"enter the days : \"))\n",
        "total_time=(months*30+days)/30\n",
        "print(\"total_time : \",total_time)\n",
        "SI=(principle*rate*total_time)/100\n",
        "print(\"simple interset : \" , SI)\n",
        "\n"
      ],
      "metadata": {
        "colab": {
          "base_uri": "https://localhost:8080/"
        },
        "id": "uFF-Oq5XdBUe",
        "outputId": "8d13f8b7-196b-4bb8-f958-f10ecce72024"
      },
      "execution_count": null,
      "outputs": [
        {
          "output_type": "stream",
          "name": "stdout",
          "text": [
            "enter the value of principle : 450\n",
            "enter the value of rate : 20\n",
            "enter the months : 5\n",
            "enter the days : 11\n",
            "total_time :  5.366666666666666\n",
            "simple interset :  482.99999999999994\n"
          ]
        }
      ]
    },
    {
      "cell_type": "markdown",
      "source": [
        "leap year\n"
      ],
      "metadata": {
        "id": "TbCM_LWhhNmn"
      }
    },
    {
      "cell_type": "code",
      "source": [
        "#leap year\n",
        "print(\"leap year\")\n",
        "year =int(input(\"enter the value of year:  \"))\n",
        "if year%4 == 0:\n",
        "\n",
        "  if year%100==0:\n",
        "\n",
        "   if year%400==0:\n",
        "    print(\"it is also  leap year\")\n",
        "   else:\n",
        "      print(\" not leap year\")\n",
        "  else:\n",
        "      print(\"leap year\")\n",
        "else:\n",
        "      print(\"leap year is not\")\n"
      ],
      "metadata": {
        "colab": {
          "base_uri": "https://localhost:8080/"
        },
        "id": "vy2HuEwLeurv",
        "outputId": "de1ccd4f-7aca-429a-e467-97c6d22cda17"
      },
      "execution_count": null,
      "outputs": [
        {
          "output_type": "stream",
          "name": "stdout",
          "text": [
            "leap year\n",
            "enter the value of year:  2300\n",
            " not leap year\n"
          ]
        }
      ]
    },
    {
      "cell_type": "markdown",
      "source": [
        "simple interset in days"
      ],
      "metadata": {
        "id": "5FvPa_zUU-Fr"
      }
    },
    {
      "cell_type": "code",
      "source": [
        "principle=int(input(\"enter the principle\"))\n",
        "rate=int(input(\"enter the rate\"))\n",
        "time=int(input(\"enter the time\"))\n",
        "days=int(input(\"enter the days\"))\n",
        "month=input(\"enter the months\")\n",
        "year=int(input(\"enter the  year\"))\n",
        "simple_interset_in_month=(principle*rate*time)/100\n",
        "print(\"simple interset is\",simple_interset_in_month)\n",
        "if month==\"jaunary\" or  month==\"march\" or month== \"may\" or month== \"july\" or month==\"august\" or month==\"october\" or month==\"december\":\n",
        "  print(\"31 days\")\n",
        "  days_in_month = 31\n",
        "elif month==\"apirl\" or month==\"june\" or month==\"september\":\n",
        "  print(\"30 days\")\n",
        "  days_in_month= 30\n",
        "else:\n",
        "  print(\"29 days\")\n",
        "\n",
        "\n",
        "  if year%4==0:\n",
        "    if year%100==0:\n",
        "     if year%400==0:\n",
        "      print(\"it isa aleap year\")\n",
        "     else:\n",
        "        print(\"it is not a leap\")\n",
        "        print(\"28\")\n",
        "    else:\n",
        "      print(\"leap year\")\n",
        "      print(\"29\")\n",
        "  else:\n",
        "    print(\"it is also not leap year\")\n",
        "    print(\"28\")\n",
        "\n",
        "\n",
        "\n",
        "\n",
        "\n",
        "\n",
        "\n",
        "final_month = days/days_in_month\n",
        "SI_in_days = (principle*rate*final_month)/100\n",
        "print(\"simple interset\",SI_in_days)\n",
        "total_interset=(simple_interset_in_month+SI_in_days)\n",
        "print(\"total interset is : \",total_interset)\n",
        "\n",
        "\n"
      ],
      "metadata": {
        "colab": {
          "base_uri": "https://localhost:8080/"
        },
        "id": "59Eu554lE30k",
        "outputId": "d190821c-86b0-4898-d59f-f9d22ab654bc"
      },
      "execution_count": 37,
      "outputs": [
        {
          "output_type": "stream",
          "name": "stdout",
          "text": [
            "enter the principle1000\n",
            "enter the rate5\n",
            "enter the time2\n",
            "enter the days21\n",
            "enter the monthsfeberary\n",
            "enter the  year2029\n",
            "simple interset is 100.0\n",
            "29 days\n",
            "it is also not leap year\n",
            "28\n",
            "simple interset 36.20689655172414\n",
            "total interset is :  136.20689655172413\n"
          ]
        }
      ]
    },
    {
      "cell_type": "code",
      "source": [],
      "metadata": {
        "id": "B40bhq2ge4vP"
      },
      "execution_count": null,
      "outputs": []
    }
  ]
}