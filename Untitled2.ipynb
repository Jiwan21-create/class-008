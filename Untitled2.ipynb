{
  "nbformat": 4,
  "nbformat_minor": 0,
  "metadata": {
    "colab": {
      "provenance": [],
      "authorship_tag": "ABX9TyMf/4nkN+qlzDbj9Z+JBJCp",
      "include_colab_link": true
    },
    "kernelspec": {
      "name": "python3",
      "display_name": "Python 3"
    },
    "language_info": {
      "name": "python"
    }
  },
  "cells": [
    {
      "cell_type": "markdown",
      "metadata": {
        "id": "view-in-github",
        "colab_type": "text"
      },
      "source": [
        "<a href=\"https://colab.research.google.com/github/Jiwan21-create/class-008/blob/main/Untitled2.ipynb\" target=\"_parent\"><img src=\"https://colab.research.google.com/assets/colab-badge.svg\" alt=\"Open In Colab\"/></a>"
      ]
    },
    {
      "cell_type": "markdown",
      "source": [
        "percentage"
      ],
      "metadata": {
        "id": "Tz5p2K0LnGOf"
      }
    },
    {
      "cell_type": "code",
      "execution_count": null,
      "metadata": {
        "colab": {
          "base_uri": "https://localhost:8080/"
        },
        "id": "wCErl9nhlWfk",
        "outputId": "7a8ab885-839d-4c39-ee20-232c13454ef0"
      },
      "outputs": [
        {
          "output_type": "stream",
          "name": "stdout",
          "text": [
            "enter the value :-30\n",
            "failed\n"
          ]
        }
      ],
      "source": [
        "# percent\n",
        "per=int(input(\"enter the value :-\"))\n",
        "if per>=60:\n",
        "  print(\"first divion\")\n",
        "elif per>=45:\n",
        "  print(\"second divion\")\n",
        "elif per>=33:\n",
        "  print(\"third divion\")\n",
        "else:\n",
        "  print(\"failed\")"
      ]
    },
    {
      "cell_type": "markdown",
      "source": [
        "age group classification"
      ],
      "metadata": {
        "id": "knd6Is5OqiId"
      }
    },
    {
      "cell_type": "code",
      "source": [
        "#age group\n",
        "print(\"naman\")\n",
        "age=int(input(\"enter your age\"))\n",
        "\n",
        "if age <=12:\n",
        "  print(\"child\")\n",
        "elif age <= 21:\n",
        "  print(\"teenager\")\n",
        "elif age <=30:\n",
        "  print(\"adult\")\n",
        "else:\n",
        "  print(\"senior\")\n",
        "\n"
      ],
      "metadata": {
        "colab": {
          "base_uri": "https://localhost:8080/"
        },
        "id": "KnzSjj5xnSld",
        "outputId": "92115d88-d512-46c6-9622-1a3d8dda10ff"
      },
      "execution_count": null,
      "outputs": [
        {
          "output_type": "stream",
          "name": "stdout",
          "text": [
            "naman\n",
            "enter your age11\n",
            "child\n"
          ]
        }
      ]
    },
    {
      "cell_type": "code",
      "source": [
        "days =\"tuesday\"\n",
        "if days ==\"saturday\" or days ==\"sunday\":\n",
        "  print(\"weekend_day\")\n",
        "\n",
        "elif days ==\"monday\" or days==\"tuesday\" or days==\"wednesday\" or days==\"thursday\" or days==\"friday\":\n",
        "    print(\"non_weekend_day\")"
      ],
      "metadata": {
        "colab": {
          "base_uri": "https://localhost:8080/"
        },
        "id": "FnU7EbhdrXrs",
        "outputId": "1ea1d5ed-4079-414e-8c2f-204d41c38d01"
      },
      "execution_count": null,
      "outputs": [
        {
          "output_type": "stream",
          "name": "stdout",
          "text": [
            "non_weekend_day\n"
          ]
        }
      ]
    },
    {
      "cell_type": "markdown",
      "source": [
        "acccounting bill"
      ],
      "metadata": {
        "id": "lMEBD9GaX_iR"
      }
    },
    {
      "cell_type": "code",
      "source": [
        "# amzon bill\n",
        "print(\"amzon_bill\")\n",
        "price_cake = 120\n",
        "price_burger = 150\n",
        "print(\"price_cake\",price_cake)\n",
        "print(\"price_burger\",price_cake)\n",
        "total_amount = price_cake + price_burger\n",
        "print(\"total_amount\",total_amount)\n",
        "discount = float(input(\"enter the value of discount\"))\n",
        "total_discount = (total_amount * discount)/100\n",
        "final_amount = total_amount - discount\n",
        "print(\"final_amount\",final_amount)\n",
        "#orders\n",
        "order_one_cake = 2\n",
        "order_two_burger = 3\n",
        "print(\"order_one_cake\",order_one_cake)\n",
        "print(\"order_two_burger\",order_two_burger)\n",
        "\n",
        "otp=int(input(\"enter the value of otp\"))\n",
        "if otp>= 9999:\n",
        " print(\"order dilvery\")\n",
        "elif otp>= 88234:\n",
        "  print(\"not dilvery\")\n",
        "else:\n",
        "  print(\"no dilvery\")\n",
        "price=int(input(\"enter the value of price\"))\n",
        "if price>= 45000:\n",
        " print(\"most high price\")\n",
        "elif price>=4500:\n",
        "  print(\"medium price\")\n",
        "elif price>=2300:\n",
        "  print(\"low price\")\n",
        "else:\n",
        "  print(\"least price\")\n",
        "\n",
        "\n",
        "\n"
      ],
      "metadata": {
        "colab": {
          "base_uri": "https://localhost:8080/"
        },
        "id": "J0E7BZzBLQkk",
        "outputId": "7d3290cc-0a81-4827-ae54-f094d135fde9"
      },
      "execution_count": 10,
      "outputs": [
        {
          "output_type": "stream",
          "name": "stdout",
          "text": [
            "amzon_bill\n",
            "price_cake 120\n",
            "price_burger 120\n",
            "total_amount 270\n",
            "enter the value of discount12\n",
            "final_amount 258.0\n",
            "order_one_cake 2\n",
            "order_two_burger 3\n",
            "enter the value of otp14500\n",
            "order dilvery\n",
            "enter the value of price2300\n",
            "low price\n"
          ]
        }
      ]
    }
  ]
}