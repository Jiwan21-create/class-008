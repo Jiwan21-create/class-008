{
  "nbformat": 4,
  "nbformat_minor": 0,
  "metadata": {
    "colab": {
      "provenance": [],
      "authorship_tag": "ABX9TyMBhDd84w+fF54rdQdO5Kpt",
      "include_colab_link": true
    },
    "kernelspec": {
      "name": "python3",
      "display_name": "Python 3"
    },
    "language_info": {
      "name": "python"
    }
  },
  "cells": [
    {
      "cell_type": "markdown",
      "metadata": {
        "id": "view-in-github",
        "colab_type": "text"
      },
      "source": [
        "<a href=\"https://colab.research.google.com/github/Jiwan21-create/class-008/blob/main/Untitled2.ipynb\" target=\"_parent\"><img src=\"https://colab.research.google.com/assets/colab-badge.svg\" alt=\"Open In Colab\"/></a>"
      ]
    },
    {
      "cell_type": "markdown",
      "source": [
        "we are take items and total amount and find a finalcash from plus add"
      ],
      "metadata": {
        "id": "2fkSKwULEAdd"
      }
    },
    {
      "cell_type": "code",
      "execution_count": 10,
      "metadata": {
        "colab": {
          "base_uri": "https://localhost:8080/"
        },
        "id": "qJ_HG_OwDJ1j",
        "outputId": "adc9c861-1cda-4428-dcf7-b423440946e5"
      },
      "outputs": [
        {
          "output_type": "stream",
          "name": "stdout",
          "text": [
            "amzon bill\n",
            "one_pent 230\n",
            "TWO_shirt 390\n",
            "shoes 340\n",
            "two_hair_band 340\n",
            "seven_check_t_shirt 380\n",
            "nine_pent 390\n",
            "total_gst 380\n",
            "enter the vallue of discount on pents30\n",
            "total_amount 2070\n",
            "give_bill_by_counter 2450\n",
            "final_bill 1715.0\n"
          ]
        }
      ],
      "source": [
        "#aamzon bill\n",
        "print(\"amzon bill\")\n",
        "one_pent = 230\n",
        "TWO_shirt = 390\n",
        "shoes = 340\n",
        "two_hair_band = 340\n",
        "seven_check_t_shirt = 380\n",
        "nine_pent = 390\n",
        "total_gst = 380\n",
        "print(\"one_pent\",one_pent)\n",
        "print(\"TWO_shirt\",TWO_shirt)\n",
        "print(\"shoes\",shoes)\n",
        "print(\"two_hair_band\",two_hair_band)\n",
        "print(\"seven_check_t_shirt\",seven_check_t_shirt)\n",
        "print(\"nine_pent\",nine_pent)\n",
        "print(\"total_gst\",total_gst)\n",
        "discount_on_pents = float(input(\"enter the vallue of discount on pents\"))\n",
        "total_amount = one_pent+TWO_shirt+shoes+two_hair_band+seven_check_t_shirt+nine_pent\n",
        "print(\"total_amount\",total_amount)\n",
        "give_bill_by_counter = (total_amount + total_gst)\n",
        "print(\"give_bill_by_counter\",give_bill_by_counter)\n",
        "discount =(give_bill_by_counter * discount_on_pents) / 100\n",
        "final_bill = (give_bill_by_counter - discount)\n",
        "print(\"final_bill\",final_bill)\n"
      ]
    },
    {
      "cell_type": "code",
      "source": [
        "print(\"discount coupon add in aamzon bill\")\n",
        "two_toys = 340\n",
        "seven_toys = 230\n",
        "nine_shoes_pair = 1000\n",
        "two_hair_band = 200\n",
        "total_gst = 100\n",
        "dilvery_charge = 50\n",
        "print(\"two_toys\",two_toys)\n",
        "print(\"seven_toys\",seven_toys)\n",
        "print(\"nine_shoes_pair\",nine_shoes_pair)\n",
        "print(\"two_hair_band\",two_hair_band)\n",
        "print(\"total_gst\",total_gst)\n",
        "print(\"dilvery_charge\",dilvery_charge)\n",
        "total_amount = two_toys + seven_toys + nine_shoes_pair + two_hair_band\n",
        "print(\"total_amount\",total_amount)\n",
        "discount_coupan =int(input(\"enter the value of discount coupan\"))\n",
        "fixed_discount = int(input(\"enter the value of discount coupan\"))\n",
        "total_discount = (discount_coupan + fixed_discount)\n",
        "final_discount = ( total_amount * total_discount) / 100\n",
        "final_amount =  total_amount - final_discount\n",
        "print(\"final_amount\",final_amount)\n",
        "\n"
      ],
      "metadata": {
        "colab": {
          "base_uri": "https://localhost:8080/"
        },
        "id": "BVQLhgHYNMkj",
        "outputId": "75f8495a-ee27-4771-a26d-3f8dd2df932f"
      },
      "execution_count": 13,
      "outputs": [
        {
          "output_type": "stream",
          "name": "stdout",
          "text": [
            "discount coupon add in aamzon bill\n",
            "two_toys 340\n",
            "seven_toys 230\n",
            "nine_shoes_pair 1000\n",
            "two_hair_band 200\n",
            "total_gst 100\n",
            "dilvery_charge 50\n",
            "total_amount 1770\n",
            "enter the value of discount coupan560\n",
            "enter the value of discount coupan780\n",
            "final_amount -21948.0\n"
          ]
        }
      ]
    },
    {
      "cell_type": "code",
      "source": [
        "weekend_day = \"sunday\"\n",
        "weekend_day = \"saturday\"\n",
        "\n",
        "day = input(\"enter the day\")\n",
        "if day == \"sunday\":\n",
        " print(\"weekend_day\")\n",
        "elif day == \"monday\":\n",
        " print(\"non_weekend_day\")\n",
        "elif day == \"wednesday\":\n",
        "  print(\"non-weekend_day\")\n"
      ],
      "metadata": {
        "colab": {
          "base_uri": "https://localhost:8080/"
        },
        "id": "wirZ6dmtVxaR",
        "outputId": "d759252b-339a-405c-9fa0-c3a0f0d7b3a2"
      },
      "execution_count": 18,
      "outputs": [
        {
          "name": "stdout",
          "output_type": "stream",
          "text": [
            "enter the daytuesday\n"
          ]
        }
      ]
    }
  ]
}