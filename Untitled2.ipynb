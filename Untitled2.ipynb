{
  "nbformat": 4,
  "nbformat_minor": 0,
  "metadata": {
    "colab": {
      "provenance": [],
      "authorship_tag": "ABX9TyMwSpVNSnNaUDq3a+gqyS/D",
      "include_colab_link": true
    },
    "kernelspec": {
      "name": "python3",
      "display_name": "Python 3"
    },
    "language_info": {
      "name": "python"
    }
  },
  "cells": [
    {
      "cell_type": "markdown",
      "metadata": {
        "id": "view-in-github",
        "colab_type": "text"
      },
      "source": [
        "<a href=\"https://colab.research.google.com/github/Jiwan21-create/class-008/blob/main/Untitled2.ipynb\" target=\"_parent\"><img src=\"https://colab.research.google.com/assets/colab-badge.svg\" alt=\"Open In Colab\"/></a>"
      ]
    },
    {
      "cell_type": "code",
      "execution_count": 27,
      "metadata": {
        "colab": {
          "base_uri": "https://localhost:8080/"
        },
        "id": "EY22XzkI2bI_",
        "outputId": "fc6d1823-7cc0-4eb0-a0ce-a5764603e6de"
      },
      "outputs": [
        {
          "output_type": "stream",
          "name": "stdout",
          "text": [
            "------- party-------\n",
            "enter the value of gender female\n",
            "enter the value of age 34\n",
            "senior age\n"
          ]
        }
      ],
      "source": [
        "print(\"------- party-------\")\n",
        "gender = input(\"enter the value of gender\")\n",
        "if gender == \"male\":\n",
        "  print(\"block A book\")\n",
        "elif gender ==\"female\":\n",
        "  print(\" block B book\")\n",
        "age=int(input(\"enter the value of age\"))\n",
        "if age <= 30:\n",
        "  print(\"teenger age\")\n",
        "elif age <=50:\n",
        "  print(\"senior age\")\n",
        "else:\n",
        "  print(\"most senior age\")\n",
        "\n"
      ]
    },
    {
      "cell_type": "code",
      "source": [
        "gender =input(\"write the gender of person\")\n",
        "age=int(input(\"write the gender of age\"))\n",
        "if gender ==\"male\":\n",
        "  print(\"block A\")\n",
        "  if age> 30:\n",
        "    print(\"building A\")\n",
        "  elif age<=30:\n",
        "    print(\"building B\")\n",
        "  else:\n",
        "    print(\"enter the vailed age\")\n",
        "\n",
        "elif gender==\"female\":\n",
        "  print(\"block B\")\n",
        "  if age> 30:\n",
        "    print(\"building A\")\n",
        "elif age<=30:\n",
        "  print(\"building B\")\n",
        "else:\n",
        "  print(\"enter the vailed age\")\n",
        "\n",
        ""
      ],
      "metadata": {
        "colab": {
          "base_uri": "https://localhost:8080/"
        },
        "id": "X6XJRKRC_Ntk",
        "outputId": "4321f085-ae3c-4562-d79f-2fd5aa724a52"
      },
      "execution_count": 25,
      "outputs": [
        {
          "output_type": "stream",
          "name": "stdout",
          "text": [
            "write the gender of person male\n",
            "write the gender of age 45\n",
            "enter the vailed age\n"
          ]
        }
      ]
    },
    {
      "cell_type": "code",
      "source": [
        "print(\"leap year\")\n",
        "year =int(input(\"enter the value of year\"))\n",
        "if year%4 == 0:\n",
        "\n",
        "  if year%100==0:\n",
        "\n",
        "   if year%400==0:\n",
        "    print(\"it is also  leap year\")\n",
        "   else:\n",
        "      print(\" not leap year\")\n",
        "  else:\n",
        "      print(\"leap year\")\n",
        "else:\n",
        "      print(\"leap year is not\")\n"
      ],
      "metadata": {
        "colab": {
          "base_uri": "https://localhost:8080/"
        },
        "id": "2YLZCqdFDG-3",
        "outputId": "acd8b439-e40e-461f-f348-7ce5d1f8148a"
      },
      "execution_count": 29,
      "outputs": [
        {
          "output_type": "stream",
          "name": "stdout",
          "text": [
            "leap year\n",
            "enter the value of year2024\n",
            "leap year\n"
          ]
        }
      ]
    },
    {
      "cell_type": "code",
      "source": [
        "print(\"leap year\")\n",
        "year =int(input(\"enter the value of year\"))\n",
        "if year%4==0:\n",
        "  print(\"leap year\")\n"
      ],
      "metadata": {
        "id": "PxBAS1JcI0Fn"
      },
      "execution_count": null,
      "outputs": []
    }
  ]
}