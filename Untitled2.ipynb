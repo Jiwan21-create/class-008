{
  "nbformat": 4,
  "nbformat_minor": 0,
  "metadata": {
    "colab": {
      "provenance": [],
      "authorship_tag": "ABX9TyMzn68N+jSKIpf/AYqDE4Ph",
      "include_colab_link": true
    },
    "kernelspec": {
      "name": "python3",
      "display_name": "Python 3"
    },
    "language_info": {
      "name": "python"
    }
  },
  "cells": [
    {
      "cell_type": "markdown",
      "metadata": {
        "id": "view-in-github",
        "colab_type": "text"
      },
      "source": [
        "<a href=\"https://colab.research.google.com/github/Jiwan21-create/class-008/blob/main/Untitled2.ipynb\" target=\"_parent\"><img src=\"https://colab.research.google.com/assets/colab-badge.svg\" alt=\"Open In Colab\"/></a>"
      ]
    },
    {
      "cell_type": "markdown",
      "source": [
        "percentage"
      ],
      "metadata": {
        "id": "Tz5p2K0LnGOf"
      }
    },
    {
      "cell_type": "code",
      "execution_count": 4,
      "metadata": {
        "colab": {
          "base_uri": "https://localhost:8080/"
        },
        "id": "wCErl9nhlWfk",
        "outputId": "7a8ab885-839d-4c39-ee20-232c13454ef0"
      },
      "outputs": [
        {
          "output_type": "stream",
          "name": "stdout",
          "text": [
            "enter the value :-30\n",
            "failed\n"
          ]
        }
      ],
      "source": [
        "# percent\n",
        "per=int(input(\"enter the value :-\"))\n",
        "if per>=60:\n",
        "  print(\"first divion\")\n",
        "elif per>=45:\n",
        "  print(\"second divion\")\n",
        "elif per>=33:\n",
        "  print(\"third divion\")\n",
        "else:\n",
        "  print(\"failed\")"
      ]
    },
    {
      "cell_type": "markdown",
      "source": [
        "age group classification"
      ],
      "metadata": {
        "id": "knd6Is5OqiId"
      }
    },
    {
      "cell_type": "code",
      "source": [
        "#age group\n",
        "print(\"naman\")\n",
        "age=int(input(\"enter your age\"))\n",
        "\n",
        "if age <=12:\n",
        "  print(\"child\")\n",
        "elif age <= 21:\n",
        "  print(\"teenager\")\n",
        "elif age <=30:\n",
        "  print(\"adult\")\n",
        "else:\n",
        "  print(\"senior\")\n",
        "\n"
      ],
      "metadata": {
        "colab": {
          "base_uri": "https://localhost:8080/"
        },
        "id": "KnzSjj5xnSld",
        "outputId": "92115d88-d512-46c6-9622-1a3d8dda10ff"
      },
      "execution_count": 8,
      "outputs": [
        {
          "output_type": "stream",
          "name": "stdout",
          "text": [
            "naman\n",
            "enter your age11\n",
            "child\n"
          ]
        }
      ]
    },
    {
      "cell_type": "code",
      "source": [
        "days =\"tuesday\"\n",
        "if days ==\"saturday\" or days ==\"sunday\":\n",
        "  print(\"weekend_day\")\n",
        "\n",
        "elif days ==\"monday\" or days==\"tuesday\" or days==\"wednesday\" or days==\"thursday\" or days==\"friday\":\n",
        "    print(\"non_weekend_day\")"
      ],
      "metadata": {
        "colab": {
          "base_uri": "https://localhost:8080/"
        },
        "id": "FnU7EbhdrXrs",
        "outputId": "1ea1d5ed-4079-414e-8c2f-204d41c38d01"
      },
      "execution_count": 16,
      "outputs": [
        {
          "output_type": "stream",
          "name": "stdout",
          "text": [
            "non_weekend_day\n"
          ]
        }
      ]
    }
  ]
}