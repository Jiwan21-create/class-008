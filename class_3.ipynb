{
  "nbformat": 4,
  "nbformat_minor": 0,
  "metadata": {
    "colab": {
      "provenance": [],
      "authorship_tag": "ABX9TyNdPx4Z1sgnAA9hNmqPQcLs",
      "include_colab_link": true
    },
    "kernelspec": {
      "name": "python3",
      "display_name": "Python 3"
    },
    "language_info": {
      "name": "python"
    }
  },
  "cells": [
    {
      "cell_type": "markdown",
      "metadata": {
        "id": "view-in-github",
        "colab_type": "text"
      },
      "source": [
        "<a href=\"https://colab.research.google.com/github/Jiwan21-create/class-008/blob/main/class_3.ipynb\" target=\"_parent\"><img src=\"https://colab.research.google.com/assets/colab-badge.svg\" alt=\"Open In Colab\"/></a>"
      ]
    },
    {
      "cell_type": "markdown",
      "source": [
        "ordered items by users and show a personal information of user\n",
        "\n",
        "1.   list items\n",
        "2.   personal information\n",
        "\n"
      ],
      "metadata": {
        "id": "IjfBLztjuQwN"
      }
    },
    {
      "cell_type": "code",
      "execution_count": null,
      "metadata": {
        "colab": {
          "base_uri": "https://localhost:8080/"
        },
        "id": "Sg4XFJTggMQa",
        "outputId": "fd9f19e3-ec21-4d93-a864-41a7ef43c2b5"
      },
      "outputs": [
        {
          "output_type": "stream",
          "name": "stdout",
          "text": [
            "nike_shoes 240\n",
            "nike_shoes 240\n",
            "hm_shirt 250\n",
            "puna_jacket 500\n",
            "air_pods 550\n",
            "enter the value of discount coupan16\n",
            "enter the value of fixed discount18\n",
            "total_discount 34.0\n",
            "total_amount 1770\n",
            "final_discount 601.8\n",
            "final_amountt 1168.2\n",
            "--- personal information----\n",
            "name : jiwan singh\n",
            "mobile_number : 814635000\n",
            "address : daria,railway station near , chandigarh\n",
            "email_id : jiwansat1818@gamil.com\n"
          ]
        }
      ],
      "source": [
        "#ordered items by users\n",
        "jordan_shoes = 230\n",
        "nike_shoes = 240\n",
        "hm_shirt = 250\n",
        "puna_jacket = 500\n",
        "air_pods = 550\n",
        "print(\"nike_shoes\",nike_shoes)\n",
        "print(\"nike_shoes\",nike_shoes)\n",
        "print(\"hm_shirt\",hm_shirt)\n",
        "print(\"puna_jacket\",puna_jacket)\n",
        "print(\"air_pods\",air_pods)\n",
        "discount_coupan = float(input(\"enter the value of discount coupan\"))\n",
        "fixed_discount = float(input(\"enter the value of fixed discount\"))\n",
        "total_discount = discount_coupan + fixed_discount\n",
        "print(\"total_discount\",total_discount)\n",
        "total_amount = jordan_shoes + nike_shoes + hm_shirt + puna_jacket + air_pods\n",
        "print(\"total_amount\",total_amount)\n",
        "final_discount = (total_amount * total_discount) / 100\n",
        "print(\"final_discount\",final_discount)\n",
        "final_amount = total_amount - final_discount\n",
        "print(\"final_amountt\",final_amount)\n",
        "\n",
        "# personal inpormation of user\n",
        "\n",
        "print(\"--- personal information----\")\n",
        "\n",
        "\n",
        "name =\": jiwan singh\"\n",
        "mobile_number =\": 814635000\"\n",
        "address =\": daria,railway station near , chandigarh\"\n",
        "email_id =\": jiwansat1818@gamil.com\"\n",
        "print(\"name\",name)\n",
        "print(\"mobile_number\",mobile_number)\n",
        "print(\"address\",address)\n",
        "print(\"email_id\",email_id)\n",
        "\n",
        "\n",
        "\n"
      ]
    },
    {
      "cell_type": "markdown",
      "source": [
        "orders code"
      ],
      "metadata": {
        "id": "Byl_tLx-NlKx"
      }
    },
    {
      "cell_type": "code",
      "source": [
        "#orders\n",
        "order_list_first = int(input(\"enter the per price of cake\"))\n",
        "order_two = int(input('enter the  per price of burger'))\n",
        "order_list_thrid = int(input(\"enter the  per price of pizza\"))\n",
        "person_cake = 2\n",
        "person_burger = 4\n",
        "person_pizza = 3\n",
        "print(\"person_cake\",person_cake)\n",
        "print(\"person_burger\",person_burger)\n",
        "print(\"person_pizza\",person_pizza)\n",
        "first_person_bill = (person_cake * order_list_first)\n",
        "second_person_bill = (person_burger * order_two)\n",
        "third_person_bill = (person_pizza * order_list_thrid)\n",
        "total_amount = first_person_bill + second_person_bill + third_person_bill\n",
        "print(\"total_amount\",total_amount)\n",
        "discount_per_order = float(input(\"enter the price of discount per order\"))\n",
        "final_discount = (total_amount * discount_per_order) / 100\n",
        "print(\"final_discount\",final_discount)\n",
        "final_bill = total_amount - final_discount\n",
        "print(\"final_bill\",final_bill)"
      ],
      "metadata": {
        "id": "6zBKXlEtocJl",
        "colab": {
          "base_uri": "https://localhost:8080/"
        },
        "outputId": "929e0a2f-803a-4a71-ab54-241250b7443f"
      },
      "execution_count": 14,
      "outputs": [
        {
          "output_type": "stream",
          "name": "stdout",
          "text": [
            "enter the per price of cake       450\n",
            "enter the  per price of burger       560\n",
            "enter the  per price of pizza          567\n",
            "person_cake 2\n",
            "person_burger 4\n",
            "person_pizza 3\n",
            "total_amount 4841\n",
            "enter the price of discount per order    50\n",
            "final_discount 2420.5\n",
            "final_bill 2420.5\n"
          ]
        }
      ]
    },
    {
      "cell_type": "code",
      "source": [
        "    weekend_day = \"sunday\"\n",
        "    weekend_day = \"saturday\"\n",
        "\n",
        "    day = input(\"enter the day\")\n",
        "    if day ==\"sunday\":\n",
        "      print(\"weekend_day\")\n",
        "    elif day == \"monday\":\n",
        "      print(\"non_weekend_day\")\n",
        "    elif day == \"tuesday\":\n",
        "      print(\"non_weekend_day\")\n",
        "    elif day == \"wednesday\":\n",
        "      print(\"non_weekend_day\")\n",
        "    elif day == \"thursday\":\n",
        "      print(\"non_weekend_day\")\n",
        "    elif day == \"friday\":\n",
        "      print(\"non_weekend_day\")\n",
        "    elif day == \"saturday\":\n",
        "      print(\"weekend_day\")\n"
      ],
      "metadata": {
        "colab": {
          "base_uri": "https://localhost:8080/"
        },
        "id": "Q12gBVz4VqE6",
        "outputId": "d0eda9cf-395e-4e3c-b889-00eda5c131db"
      },
      "execution_count": 28,
      "outputs": [
        {
          "name": "stdout",
          "output_type": "stream",
          "text": [
            "enter the day friday\n"
          ]
        }
      ]
    }
  ]
}