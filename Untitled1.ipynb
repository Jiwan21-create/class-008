{
  "nbformat": 4,
  "nbformat_minor": 0,
  "metadata": {
    "colab": {
      "provenance": [],
      "authorship_tag": "ABX9TyOc1tmhPWfUyM9Jbi2ldR2K",
      "include_colab_link": true
    },
    "kernelspec": {
      "name": "python3",
      "display_name": "Python 3"
    },
    "language_info": {
      "name": "python"
    }
  },
  "cells": [
    {
      "cell_type": "markdown",
      "metadata": {
        "id": "view-in-github",
        "colab_type": "text"
      },
      "source": [
        "<a href=\"https://colab.research.google.com/github/Jiwan21-create/class-008/blob/main/Untitled1.ipynb\" target=\"_parent\"><img src=\"https://colab.research.google.com/assets/colab-badge.svg\" alt=\"Open In Colab\"/></a>"
      ]
    },
    {
      "cell_type": "markdown",
      "source": [
        "source of bill"
      ],
      "metadata": {
        "id": "OErLuFH41UAN"
      }
    },
    {
      "cell_type": "code",
      "execution_count": null,
      "metadata": {
        "colab": {
          "base_uri": "https://localhost:8080/"
        },
        "id": "oXIu0eBGfnI8",
        "outputId": "2ee27cbc-73be-437a-e34a-cd660cad97e4"
      },
      "outputs": [
        {
          "output_type": "stream",
          "name": "stdout",
          "text": [
            "bill\n",
            "enter the value of vinger340\n",
            "enter the value of oil490\n",
            "enter the value of cake450\n",
            "enter the value of bread500\n",
            "enter the value of discount50\n",
            "final_bill 890.0\n"
          ]
        }
      ],
      "source": [
        "#demt bill\n",
        "#given discount\n",
        "print(\"bill\")\n",
        "a =float(input(\"enter the value of vinger\"))\n",
        "b =float(input(\"enter the value of oil\"))\n",
        "c =float(input(\"enter the value of cake\"))\n",
        "d =float(input(\"enter the value of bread\"))\n",
        "discount =float(input(\"enter the value of discount\"))\n",
        "total_amount =(a+b+c+d)\n",
        "discount = (total_amount * discount) /100\n",
        "final_bill =(total_amount - discount)\n",
        "print(\"final_bill\",final_bill)"
      ]
    },
    {
      "cell_type": "markdown",
      "source": [
        "accounting bill"
      ],
      "metadata": {
        "id": "3whY4rZ58eTe"
      }
    },
    {
      "cell_type": "code",
      "source": [
        "# market bill by user\n",
        "print(\"market bill\")\n",
        "price_of_ghee = 210\n",
        "price_of_fortune_oil = 380\n",
        "price_of_mustrad_oil = 290\n",
        "total_amount = (price_of_ghee + price_of_fortune_oil + price_of_mustrad_oil)\n",
        "print(\"price_of_ghee\",price_of_ghee)\n",
        "print(\"price_of_fortune_oil\",price_of_fortune_oil)\n",
        "print(\"price_of_mustrad_oil\",price_of_mustrad_oil)\n",
        "discount = float(input(\"enter the value of discount\"))\n",
        "total_amount = int(input(\"enter the value of total_amount\"))\n",
        "discount = (total_amount * discount) / 100\n",
        "final_bill = (total_amount - discount)\n",
        "print(\"final_bill\" ,int(final_bill))\n",
        "\n",
        "\n"
      ],
      "metadata": {
        "colab": {
          "base_uri": "https://localhost:8080/"
        },
        "id": "sqkf1YOe1fBL",
        "outputId": "f49d7943-9d42-40d5-ff80-287e4c13cd8c"
      },
      "execution_count": 11,
      "outputs": [
        {
          "output_type": "stream",
          "name": "stdout",
          "text": [
            "market bill\n",
            "price_of_ghee 210\n",
            "price_of_fortune_oil 380\n",
            "price_of_mustrad_oil 290\n",
            "enter the value of discount60\n",
            "enter the value of total_amount670\n",
            "final_bill 268\n"
          ]
        }
      ]
    },
    {
      "cell_type": "markdown",
      "source": [
        "about of bank transaction"
      ],
      "metadata": {
        "id": "1Ea88ifxDg_H"
      }
    },
    {
      "cell_type": "code",
      "source": [
        "#bank statement\n",
        "print(\"bank transaction\")\n",
        "first_time_withdraw = 2000\n",
        "second_time_withdraw = 4000\n",
        "deposite_time_first = 1000\n",
        "on_interset = 100\n",
        "total_amount = 20000\n",
        "print(\"first_time_withdraw\",first_time_withdraw)\n",
        "print(\"second_time_withdraw\",second_time_withdraw)\n",
        "print(\"deposite_time_first\",deposite_time_first)\n",
        "print(\"on_interset\",on_interset)\n",
        "print(\"total_amount\",total_amount)\n",
        "total_withdraw = int(input(\"enter the value of total_withdraw\"))\n",
        "total_deposite = int(input(\"enter the value of total_deposite\"))\n",
        "total_of_cash = (total_amount * total_deposite - total_withdraw)\n",
        "final_cash = (total_of_cash + on_interset)\n",
        "print(\"final_cash\",final_cash)\n",
        "\n",
        "\n",
        "\n",
        "\n"
      ],
      "metadata": {
        "colab": {
          "base_uri": "https://localhost:8080/"
        },
        "id": "Evbbz1pG8nQm",
        "outputId": "ab308776-7cf8-4cd8-df67-4b3a8d14a17c"
      },
      "execution_count": 20,
      "outputs": [
        {
          "output_type": "stream",
          "name": "stdout",
          "text": [
            "bank transaction\n",
            "first_time_withdraw 2000\n",
            "second_time_withdraw 4000\n",
            "deposite_time_first 1000\n",
            "on_interset 100\n",
            "total_amount 20000\n",
            "enter the value of total_withdraw6000\n",
            "enter the value of total_deposite1000\n",
            "final_cash 19994100\n"
          ]
        }
      ]
    }
  ]
}